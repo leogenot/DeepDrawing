{
 "cells": [
  {
   "cell_type": "markdown",
   "metadata": {},
   "source": [
    "# GIF GENERATION\n"
   ]
  },
  {
   "cell_type": "code",
   "execution_count": 1,
   "metadata": {},
   "outputs": [],
   "source": [
    "import matplotlib.pyplot as plt\n",
    "import numpy as np\n",
    "from numpy import asarray\n",
    "from numpy.random import randn\n",
    "from numpy.random import randint\n",
    "from numpy import linspace\n",
    "from tensorflow.keras.models import load_model\n",
    "from matplotlib import pyplot\n",
    "from PIL import Image\n",
    "import PIL\n",
    "from matplotlib.pyplot import imsave\n",
    "from matplotlib.pyplot import cm\n",
    "import io\n",
    "import imageio"
   ]
  },
  {
   "cell_type": "code",
   "execution_count": 3,
   "metadata": {},
   "outputs": [],
   "source": [
    "class RBFInterpolation:\n",
    "    def __init__(self,pointList,pointValues):\n",
    "        self.pointListSize = 4\n",
    "        self.pointList = pointList\n",
    "        #w coefficients\n",
    "        self.w = np.zeros(self.pointListSize)\n",
    "        #distance matrix\n",
    "        self.rbf = np.zeros((self.pointListSize,self.pointListSize))\n",
    "        #compute the distance matrix\n",
    "        for i in range(self.pointListSize):\n",
    "            for j in range(self.pointListSize):\n",
    "                self.rbf[i][j] = rbfDistance(pointList[i],pointList[j])\n",
    "        \n",
    "        # compute the w coefficients (solve linear system Ax=b)\n",
    "        for i in range(self.pointListSize):\n",
    "            self.w = np.linalg.solve(self.rbf,pointValues)\n",
    "\n",
    "    \n",
    "    def  interpolation(self,point):\n",
    "        value = 0\n",
    "        for i in range(self.pointListSize):\n",
    "            value += self.w[i] * rbfDistance(point,self.pointList[i]);  \n",
    "        return value\n",
    "\n",
    "def rbfDistance(pt1,pt2):\n",
    "    def getNorm(vec):\n",
    "        d = np.sqrt(vec[0]**2 + vec[1]**2)\n",
    "        return d\n",
    "    d = getNorm(pt1-pt2)\n",
    "    return np.exp(-0.0001 *d*d)\n"
   ]
  },
  {
   "cell_type": "code",
   "execution_count": 6,
   "metadata": {},
   "outputs": [],
   "source": [
    "def make_n_gif(nb_gif_you_want):\n",
    "\n",
    "    for t in range(nb_gif_you_want):\n",
    "        image_size = 128\n",
    "        input_dim = 100\n",
    "        nb_points = 4\n",
    "\n",
    "    # generate points in latent space as input for the generator\n",
    "        def generate_latent_points(latent_dim, n_samples):\n",
    "            # generate points in the latent space\n",
    "            x_input = randn(latent_dim * n_samples)\n",
    "            # reshape into a batch of inputs for the network\n",
    "            z_input = x_input.reshape(n_samples, latent_dim)\n",
    "            return z_input\n",
    "    # create a plot of generated images\n",
    "        def plot_generated(examples, n):\n",
    "            # plot images\n",
    "            for i in range(n):\n",
    "                # define subplot\n",
    "                pyplot.subplot(1, n, 1 + i)\n",
    "                # turn off axis\n",
    "                pyplot.axis('off')\n",
    "                # plot raw pixel data\n",
    "                img= np.zeros((image_size,image_size))\n",
    "                for j in range(image_size):\n",
    "                    for k in range(image_size):\n",
    "                        img[j,k] = examples[i,j,k,0]\n",
    "\n",
    "                return img\n",
    "\n",
    "\n",
    "\n",
    "        # load model\n",
    "        model = load_model('generator.h5')\n",
    "\n",
    "        # generate 4 points in latent space\n",
    "        pt1 = generate_latent_points(input_dim, 1)\n",
    "        pt2 = generate_latent_points(input_dim, 1)\n",
    "        pt3 = generate_latent_points(input_dim, 1)\n",
    "        pt4 = generate_latent_points(input_dim, 1)\n",
    "                \n",
    "        latentspace2D = np.zeros((image_size,image_size,input_dim))\n",
    "\n",
    "        pointListPos = np.zeros((nb_points,2))\n",
    "        pointListseed = np.zeros((input_dim,nb_points))\n",
    "\n",
    "        print(pt1.shape)\n",
    "        for i in range(input_dim):\n",
    "                pointListseed[i,0] = pt1[0,i]\n",
    "                pointListseed[i,1] = pt2[0,i]\n",
    "                pointListseed[i,2] = pt3[0,i]\n",
    "                pointListseed[i,3] = pt4[0,i]\n",
    "\n",
    "\n",
    "        pt = np.zeros(2)\n",
    "        compteur = 0\n",
    "        pt[0] = 0\n",
    "        pt[1] = 0\n",
    "        pointListPos[compteur] = pt; \n",
    "        for i in range(input_dim):\n",
    "            latentspace2D[int(pt[0]),int(pt[1]),i] = pointListseed[i,compteur]\n",
    "\n",
    "        compteur+=1\n",
    "\n",
    "        pt[0] = 0\n",
    "        pt[1] = image_size-1\n",
    "        pointListPos[compteur] = pt\n",
    "        for i in range(input_dim):\n",
    "            latentspace2D[int(pt[0]),int(pt[1]),i] = pointListseed[i,compteur]\n",
    "\n",
    "        compteur+=1\n",
    "\n",
    "        pt[0] = image_size-1\n",
    "        pt[1] = 0\n",
    "        pointListPos[compteur] = pt\n",
    "        for i in range(input_dim):\n",
    "            latentspace2D[int(pt[0]),int(pt[1]),i] = pointListseed[i,compteur]\n",
    "\n",
    "        compteur+=1\n",
    "\n",
    "        pt[0] = image_size-1\n",
    "        pt[1] = image_size-1\n",
    "        pointListPos[compteur] = pt\n",
    "        for i in range(input_dim):\n",
    "            latentspace2D[int(pt[0]),int(pt[1]),i] = pointListseed[i,compteur]\n",
    "\n",
    "        rbf_tab = []\n",
    "        for i in range(input_dim):\n",
    "            rbf_par = RBFInterpolation(pointListPos,pointListseed[i]) \n",
    "            rbf_tab.append(rbf_par)\n",
    "\n",
    "        for i in range(image_size):\n",
    "            for j in range(image_size):\n",
    "                pt[0] = i\n",
    "                pt[1] = j\n",
    "                for k in range(input_dim):\n",
    "                    latentspace2D[i,j,k] = min(max(rbf_tab[k].interpolation(pt),-2.5),2.5)\n",
    "        plt.figure()    \n",
    "\n",
    "        def dessine_stp(x,y,compte):\n",
    "            ptgenerated = np.zeros((1,input_dim))\n",
    "            for i in range(input_dim):\n",
    "                ptgenerated[0,i] = latentspace2D[x,y,i]\n",
    "            img_gene = model.predict(ptgenerated)\n",
    "            img = plot_generated(img_gene, len(ptgenerated))\n",
    "\n",
    "            imsave(\"images_gif/image_%d.png\" % compte, img)\n",
    "            Image.open(\"images_gif/image_%d.png\" % compte).convert('L').save(\"images_gif/imageg_%d.png\" % compte)\n",
    "        \n",
    "        def autoplay (iterations,size):\n",
    "            num_image = 0\n",
    "            for i in range (iterations):\n",
    "                angle =  (2 * np.pi)*i / iterations\n",
    "                x = int(((np.cos(angle)*size/2) + size/2))\n",
    "                y = int(((np.sin(angle)*size/2) + size/2))\n",
    "                if(x>127):\n",
    "                    x=127\n",
    "                if(y>127):\n",
    "                    y=127\n",
    "                dessine_stp(x,y,num_image)\n",
    "                num_image +=1\n",
    "            for i in range(iterations):\n",
    "                x = int(-i/iterations*size +size)\n",
    "                y = int(i/iterations*size)\n",
    "                if(x>127):\n",
    "                    x=127\n",
    "                if(y>127):\n",
    "                    y=127\n",
    "                dessine_stp(x,y,num_image)\n",
    "                num_image +=1 \n",
    "            for i in range(iterations):\n",
    "                y = int(-i/iterations*size +size)\n",
    "                if(x>127):\n",
    "                    x=127\n",
    "                if(y>127):\n",
    "                    y=127\n",
    "                dessine_stp(x,y,num_image)\n",
    "                num_image +=1\n",
    "            for i in range(iterations):\n",
    "                x = int(i/iterations*size)\n",
    "                y = int(i/iterations*size)\n",
    "                if(x>127):\n",
    "                    x=127\n",
    "                if(y>127):\n",
    "                    y=127\n",
    "                dessine_stp(x,y,num_image)\n",
    "                num_image +=1\n",
    "\n",
    "        autoplay(300,image_size)\n",
    "        \n",
    "        with imageio.get_writer('gifs/gif_%d.gif' % t, mode='I') as writer:\n",
    "            for i in range (1200):\n",
    "                image = imageio.imread('images_gif/imageg_'+ str(i) + '.png')\n",
    "                writer.append_data(image)\n",
    "        \n",
    "        print(t,'/100')"
   ]
  },
  {
   "cell_type": "code",
   "execution_count": 8,
   "metadata": {},
   "outputs": [
    {
     "name": "stdout",
     "output_type": "stream",
     "text": [
      "WARNING:tensorflow:No training configuration found in the save file, so the model was *not* compiled. Compile it manually.\n",
      "(1, 100)\n"
     ]
    },
    {
     "name": "stderr",
     "output_type": "stream",
     "text": [
      "C:\\Users\\valen\\.conda\\envs\\gan\\lib\\site-packages\\ipykernel_launcher.py:20: MatplotlibDeprecationWarning: Adding an axes using the same arguments as a previous axes currently reuses the earlier instance.  In a future version, a new instance will always be created and returned.  Meanwhile, this warning can be suppressed, and the future behavior ensured, by passing a unique label to each axes instance.\n"
     ]
    },
    {
     "name": "stdout",
     "output_type": "stream",
     "text": [
      "0 /100\n",
      "WARNING:tensorflow:No training configuration found in the save file, so the model was *not* compiled. Compile it manually.\n",
      "(1, 100)\n",
      "1 /100\n",
      "WARNING:tensorflow:No training configuration found in the save file, so the model was *not* compiled. Compile it manually.\n",
      "(1, 100)\n",
      "2 /100\n",
      "WARNING:tensorflow:No training configuration found in the save file, so the model was *not* compiled. Compile it manually.\n",
      "(1, 100)\n",
      "3 /100\n",
      "WARNING:tensorflow:No training configuration found in the save file, so the model was *not* compiled. Compile it manually.\n",
      "(1, 100)\n",
      "4 /100\n",
      "WARNING:tensorflow:No training configuration found in the save file, so the model was *not* compiled. Compile it manually.\n",
      "(1, 100)\n",
      "5 /100\n",
      "WARNING:tensorflow:No training configuration found in the save file, so the model was *not* compiled. Compile it manually.\n",
      "(1, 100)\n",
      "6 /100\n",
      "WARNING:tensorflow:No training configuration found in the save file, so the model was *not* compiled. Compile it manually.\n",
      "(1, 100)\n",
      "7 /100\n",
      "WARNING:tensorflow:No training configuration found in the save file, so the model was *not* compiled. Compile it manually.\n",
      "(1, 100)\n",
      "8 /100\n",
      "WARNING:tensorflow:No training configuration found in the save file, so the model was *not* compiled. Compile it manually.\n",
      "(1, 100)\n",
      "9 /100\n",
      "WARNING:tensorflow:No training configuration found in the save file, so the model was *not* compiled. Compile it manually.\n",
      "(1, 100)\n",
      "10 /100\n",
      "WARNING:tensorflow:No training configuration found in the save file, so the model was *not* compiled. Compile it manually.\n",
      "(1, 100)\n",
      "11 /100\n",
      "WARNING:tensorflow:No training configuration found in the save file, so the model was *not* compiled. Compile it manually.\n",
      "(1, 100)\n",
      "12 /100\n",
      "WARNING:tensorflow:No training configuration found in the save file, so the model was *not* compiled. Compile it manually.\n",
      "(1, 100)\n",
      "13 /100\n",
      "WARNING:tensorflow:No training configuration found in the save file, so the model was *not* compiled. Compile it manually.\n",
      "(1, 100)\n",
      "14 /100\n",
      "WARNING:tensorflow:No training configuration found in the save file, so the model was *not* compiled. Compile it manually.\n",
      "(1, 100)\n",
      "15 /100\n",
      "WARNING:tensorflow:No training configuration found in the save file, so the model was *not* compiled. Compile it manually.\n",
      "(1, 100)\n",
      "16 /100\n",
      "WARNING:tensorflow:No training configuration found in the save file, so the model was *not* compiled. Compile it manually.\n",
      "(1, 100)\n",
      "17 /100\n",
      "WARNING:tensorflow:No training configuration found in the save file, so the model was *not* compiled. Compile it manually.\n",
      "(1, 100)\n",
      "18 /100\n",
      "WARNING:tensorflow:No training configuration found in the save file, so the model was *not* compiled. Compile it manually.\n",
      "(1, 100)\n",
      "19 /100\n"
     ]
    },
    {
     "data": {
      "image/png": "[encoded data removed]",
      "text/plain": [
       "<Figure size 432x288 with 1 Axes>"
      ]
     },
     "metadata": {
      "needs_background": "light"
     },
     "output_type": "display_data"
    },
    {
     "data": {
      "image/png": "[encoded data removed]",
      "text/plain": [
       "<Figure size 432x288 with 1 Axes>"
      ]
     },
     "metadata": {
      "needs_background": "light"
     },
     "output_type": "display_data"
    },
    {
     "data": {
      "image/png": "[encoded data removed]",
      "text/plain": [
       "<Figure size 432x288 with 1 Axes>"
      ]
     },
     "metadata": {
      "needs_background": "light"
     },
     "output_type": "display_data"
    },
    {
     "data": {
      "image/png": "[encoded data removed]",
      "text/plain": [
       "<Figure size 432x288 with 1 Axes>"
      ]
     },
     "metadata": {
      "needs_background": "light"
     },
     "output_type": "display_data"
    },
    {
     "data": {
      "image/png": "[encoded data removed]",
      "text/plain": [
       "<Figure size 432x288 with 1 Axes>"
      ]
     },
     "metadata": {
      "needs_background": "light"
     },
     "output_type": "display_data"
    },
    {
     "data": {
      "image/png": "[encoded data removed]",
      "text/plain": [
       "<Figure size 432x288 with 1 Axes>"
      ]
     },
     "metadata": {
      "needs_background": "light"
     },
     "output_type": "display_data"
    },
    {
     "data": {
      "image/png": "[encoded data removed]",
      "text/plain": [
       "<Figure size 432x288 with 1 Axes>"
      ]
     },
     "metadata": {
      "needs_background": "light"
     },
     "output_type": "display_data"
    },
    {
     "data": {
      "image/png": "[encoded data removed]",
      "text/plain": [
       "<Figure size 432x288 with 1 Axes>"
      ]
     },
     "metadata": {
      "needs_background": "light"
     },
     "output_type": "display_data"
    },
    {
     "data": {
      "image/png": "[encoded data removed]",
      "text/plain": [
       "<Figure size 432x288 with 1 Axes>"
      ]
     },
     "metadata": {
      "needs_background": "light"
     },
     "output_type": "display_data"
    },
    {
     "data": {
      "image/png": "[encoded data removed]",
      "text/plain": [
       "<Figure size 432x288 with 1 Axes>"
      ]
     },
     "metadata": {
      "needs_background": "light"
     },
     "output_type": "display_data"
    },
    {
     "data": {
      "image/png": "[encoded data removed]",
      "text/plain": [
       "<Figure size 432x288 with 1 Axes>"
      ]
     },
     "metadata": {
      "needs_background": "light"
     },
     "output_type": "display_data"
    },
    {
     "data": {
      "image/png": "[encoded data removed]",
      "text/plain": [
       "<Figure size 432x288 with 1 Axes>"
      ]
     },
     "metadata": {
      "needs_background": "light"
     },
     "output_type": "display_data"
    },
    {
     "data": {
      "image/png": "[encoded data removed]",
      "text/plain": [
       "<Figure size 432x288 with 1 Axes>"
      ]
     },
     "metadata": {
      "needs_background": "light"
     },
     "output_type": "display_data"
    },
    {
     "data": {
      "image/png": "[encoded data removed]",
      "text/plain": [
       "<Figure size 432x288 with 1 Axes>"
      ]
     },
     "metadata": {
      "needs_background": "light"
     },
     "output_type": "display_data"
    },
    {
     "data": {
      "image/png": "[encoded data removed]",
      "text/plain": [
       "<Figure size 432x288 with 1 Axes>"
      ]
     },
     "metadata": {
      "needs_background": "light"
     },
     "output_type": "display_data"
    },
    {
     "data": {
      "image/png": "[encoded data removed]",
      "text/plain": [
       "<Figure size 432x288 with 1 Axes>"
      ]
     },
     "metadata": {
      "needs_background": "light"
     },
     "output_type": "display_data"
    },
    {
     "data": {
      "image/png": "[encoded data removed]",
      "text/plain": [
       "<Figure size 432x288 with 1 Axes>"
      ]
     },
     "metadata": {
      "needs_background": "light"
     },
     "output_type": "display_data"
    },
    {
     "data": {
      "image/png": "[encoded data removed]",
      "text/plain": [
       "<Figure size 432x288 with 1 Axes>"
      ]
     },
     "metadata": {
      "needs_background": "light"
     },
     "output_type": "display_data"
    },
    {
     "data": {
      "image/png": "[encoded data removed]",
      "text/plain": [
       "<Figure size 432x288 with 1 Axes>"
      ]
     },
     "metadata": {
      "needs_background": "light"
     },
     "output_type": "display_data"
    },
    {
     "data": {
      "image/png": "[encoded data removed]",
      "text/plain": [
       "<Figure size 432x288 with 1 Axes>"
      ]
     },
     "metadata": {
      "needs_background": "light"
     },
     "output_type": "display_data"
    }
   ],
   "source": [
    "make_n_gif(20)"
   ]
  }
 ],
 "metadata": {
  "interpreter": {
   "hash": "cd49c10cbc72fbd46a21231d9303b5a70a75ba44a759e796425aabfbc9279761"
  },
  "kernelspec": {
   "display_name": "gdl_code",
   "language": "python",
   "name": "python3"
  },
  "language_info": {
   "codemirror_mode": {
    "name": "ipython",
    "version": 3
   },
   "file_extension": ".py",
   "mimetype": "text/x-python",
   "name": "python",
   "nbconvert_exporter": "python",
   "pygments_lexer": "ipython3",
   "version": "3.6.13"
  }
 },
 "nbformat": 4,
 "nbformat_minor": 2
}
