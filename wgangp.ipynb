{
 "cells": [
  {
   "cell_type": "markdown",
   "metadata": {},
   "source": [
    "# WGAN-GP Training"
   ]
  },
  {
   "cell_type": "markdown",
   "metadata": {},
   "source": [
    "## imports"
   ]
  },
  {
   "cell_type": "code",
   "execution_count": 1,
   "metadata": {},
   "outputs": [],
   "source": [
    "%matplotlib inline\n",
    "\n",
    "import os\n",
    "import matplotlib.pyplot as plt\n",
    "\n",
    "from models.WGANGP import WGANGP\n",
    "from utils.loaders import load_celeb\n",
    "\n",
    "import pickle\n"
   ]
  },
  {
   "cell_type": "code",
   "execution_count": 2,
   "metadata": {},
   "outputs": [],
   "source": [
    "BATCH_SIZE = 32\n",
    "IMAGE_SIZE = 64"
   ]
  },
  {
   "cell_type": "code",
   "execution_count": 3,
   "metadata": {},
   "outputs": [],
   "source": [
    "# run params\n",
    "SECTION = 'gan'\n",
    "RUN_ID = '0003'\n",
    "DATA_NAME = 'png'\n",
    "RUN_FOLDER = 'run/{}/'.format(SECTION)\n",
    "RUN_FOLDER += '_'.join([RUN_ID, DATA_NAME])\n",
    "\n",
    "if not os.path.exists(RUN_FOLDER):\n",
    "    os.mkdir(RUN_FOLDER)\n",
    "    os.mkdir(os.path.join(RUN_FOLDER, 'viz'))\n",
    "    os.mkdir(os.path.join(RUN_FOLDER, 'images'))\n",
    "    os.mkdir(os.path.join(RUN_FOLDER, 'weights'))\n",
    "\n",
    "mode =  'build' #'load' #"
   ]
  },
  {
   "cell_type": "markdown",
   "metadata": {},
   "source": [
    "## data"
   ]
  },
  {
   "cell_type": "code",
   "execution_count": 4,
   "metadata": {},
   "outputs": [
    {
     "name": "stdout",
     "output_type": "stream",
     "text": [
      "Found 20000 images belonging to 1 classes.\n"
     ]
    }
   ],
   "source": [
    "x_train = load_celeb(DATA_NAME, IMAGE_SIZE, BATCH_SIZE)"
   ]
  },
  {
   "cell_type": "code",
   "execution_count": 5,
   "metadata": {},
   "outputs": [
    {
     "data": {
      "text/plain": [
       "array([[[1., 1., 1.],\n",
       "        [1., 1., 1.],\n",
       "        [1., 1., 1.],\n",
       "        ...,\n",
       "        [1., 1., 1.],\n",
       "        [1., 1., 1.],\n",
       "        [1., 1., 1.]],\n",
       "\n",
       "       [[1., 1., 1.],\n",
       "        [1., 1., 1.],\n",
       "        [1., 1., 1.],\n",
       "        ...,\n",
       "        [1., 1., 1.],\n",
       "        [1., 1., 1.],\n",
       "        [1., 1., 1.]],\n",
       "\n",
       "       [[1., 1., 1.],\n",
       "        [1., 1., 1.],\n",
       "        [1., 1., 1.],\n",
       "        ...,\n",
       "        [1., 1., 1.],\n",
       "        [1., 1., 1.],\n",
       "        [1., 1., 1.]],\n",
       "\n",
       "       ...,\n",
       "\n",
       "       [[1., 1., 1.],\n",
       "        [1., 1., 1.],\n",
       "        [1., 1., 1.],\n",
       "        ...,\n",
       "        [1., 1., 1.],\n",
       "        [1., 1., 1.],\n",
       "        [1., 1., 1.]],\n",
       "\n",
       "       [[1., 1., 1.],\n",
       "        [1., 1., 1.],\n",
       "        [1., 1., 1.],\n",
       "        ...,\n",
       "        [1., 1., 1.],\n",
       "        [1., 1., 1.],\n",
       "        [1., 1., 1.]],\n",
       "\n",
       "       [[1., 1., 1.],\n",
       "        [1., 1., 1.],\n",
       "        [1., 1., 1.],\n",
       "        ...,\n",
       "        [1., 1., 1.],\n",
       "        [1., 1., 1.],\n",
       "        [1., 1., 1.]]], dtype=float32)"
      ]
     },
     "execution_count": 5,
     "metadata": {},
     "output_type": "execute_result"
    }
   ],
   "source": [
    "x_train[0][0][0]"
   ]
  },
  {
   "cell_type": "code",
   "execution_count": 6,
   "metadata": {},
   "outputs": [
    {
     "data": {
      "text/plain": [
       "<matplotlib.image.AxesImage at 0x146ea9610>"
      ]
     },
     "execution_count": 6,
     "metadata": {},
     "output_type": "execute_result"
    },
    {
     "data": {
      "image/png": "[encoded data removed]",
      "text/plain": [
       "<Figure size 432x288 with 1 Axes>"
      ]
     },
     "metadata": {
      "needs_background": "light"
     },
     "output_type": "display_data"
    }
   ],
   "source": [
    "plt.imshow((x_train[0][0][0]+1)/2)"
   ]
  },
  {
   "cell_type": "markdown",
   "metadata": {},
   "source": [
    "## architecture"
   ]
  },
  {
   "cell_type": "code",
   "execution_count": 7,
   "metadata": {},
   "outputs": [
    {
     "name": "stdout",
     "output_type": "stream",
     "text": [
      "WARNING:tensorflow:From /Users/adam/.virtualenvs/generative/lib/python3.7/site-packages/tensorflow/python/ops/resource_variable_ops.py:1666: calling BaseResourceVariable.__init__ (from tensorflow.python.ops.resource_variable_ops) with constraint is deprecated and will be removed in a future version.\n",
      "Instructions for updating:\n",
      "If using Keras pass *_constraint arguments to layers.\n"
     ]
    }
   ],
   "source": [
    "gan = WGANGP(input_dim = (IMAGE_SIZE,IMAGE_SIZE,3)\n",
    "        , critic_conv_filters = [IMAGE_SIZE,IMAGE_SIZE*2,IMAGE_SIZE*4,IMAGE_SIZE*8]\n",
    "        , critic_conv_kernel_size = [5,5,5,5]\n",
    "        , critic_conv_strides = [2,2,2,2]\n",
    "        , critic_batch_norm_momentum = None\n",
    "        , critic_activation = 'leaky_relu'\n",
    "        , critic_dropout_rate = None\n",
    "        , critic_learning_rate = 0.0002\n",
    "        , generator_initial_dense_layer_size = (4, 4, IMAGE_SIZE*8)\n",
    "        , generator_upsample = [1,1,1,1]\n",
    "        , generator_conv_filters = [IMAGE_SIZE*4,IMAGE_SIZE*2,IMAGE_SIZE,3]\n",
    "        , generator_conv_kernel_size = [5,5,5,5]\n",
    "        , generator_conv_strides = [2,2,2,2]\n",
    "        , generator_batch_norm_momentum = 0.9\n",
    "        , generator_activation = 'leaky_relu'\n",
    "        , generator_dropout_rate = None\n",
    "        , generator_learning_rate = 0.0002\n",
    "        , optimiser = 'adam'\n",
    "        , grad_weight = 10\n",
    "        , z_dim = 100\n",
    "        , batch_size = BATCH_SIZE\n",
    "        )\n",
    "\n",
    "if mode == 'build':\n",
    "    gan.save(RUN_FOLDER)\n",
    "\n",
    "else:\n",
    "    gan.load_weights(os.path.join(RUN_FOLDER, 'weights/weights.h5'))\n"
   ]
  },
  {
   "cell_type": "code",
   "execution_count": 8,
   "metadata": {},
   "outputs": [
    {
     "name": "stdout",
     "output_type": "stream",
     "text": [
      "Model: \"model\"\n",
      "_________________________________________________________________\n",
      "Layer (type)                 Output Shape              Param #   \n",
      "=================================================================\n",
      "critic_input (InputLayer)    [(None, 64, 64, 3)]       0         \n",
      "_________________________________________________________________\n",
      "critic_conv_0 (Conv2D)       multiple                  4864      \n",
      "_________________________________________________________________\n",
      "leaky_re_lu (LeakyReLU)      multiple                  0         \n",
      "_________________________________________________________________\n",
      "critic_conv_1 (Conv2D)       multiple                  204928    \n",
      "_________________________________________________________________\n",
      "leaky_re_lu_1 (LeakyReLU)    multiple                  0         \n",
      "_________________________________________________________________\n",
      "critic_conv_2 (Conv2D)       multiple                  819456    \n",
      "_________________________________________________________________\n",
      "leaky_re_lu_2 (LeakyReLU)    multiple                  0         \n",
      "_________________________________________________________________\n",
      "critic_conv_3 (Conv2D)       multiple                  3277312   \n",
      "_________________________________________________________________\n",
      "leaky_re_lu_3 (LeakyReLU)    multiple                  0         \n",
      "_________________________________________________________________\n",
      "flatten (Flatten)            multiple                  0         \n",
      "_________________________________________________________________\n",
      "dense (Dense)                multiple                  8193      \n",
      "=================================================================\n",
      "Total params: 4,314,753\n",
      "Trainable params: 4,314,753\n",
      "Non-trainable params: 0\n",
      "_________________________________________________________________\n"
     ]
    }
   ],
   "source": [
    "gan.critic.summary()"
   ]
  },
  {
   "cell_type": "code",
   "execution_count": 9,
   "metadata": {},
   "outputs": [
    {
     "name": "stdout",
     "output_type": "stream",
     "text": [
      "Model: \"model_1\"\n",
      "_________________________________________________________________\n",
      "Layer (type)                 Output Shape              Param #   \n",
      "=================================================================\n",
      "generator_input (InputLayer) [(None, 100)]             0         \n",
      "_________________________________________________________________\n",
      "dense_1 (Dense)              (None, 8192)              827392    \n",
      "_________________________________________________________________\n",
      "batch_normalization (BatchNo (None, 8192)              32768     \n",
      "_________________________________________________________________\n",
      "leaky_re_lu_4 (LeakyReLU)    (None, 8192)              0         \n",
      "_________________________________________________________________\n",
      "reshape (Reshape)            (None, 4, 4, 512)         0         \n",
      "_________________________________________________________________\n",
      "generator_conv_0 (Conv2DTran (None, 8, 8, 256)         3277056   \n",
      "_________________________________________________________________\n",
      "batch_normalization_1 (Batch (None, 8, 8, 256)         1024      \n",
      "_________________________________________________________________\n",
      "leaky_re_lu_5 (LeakyReLU)    (None, 8, 8, 256)         0         \n",
      "_________________________________________________________________\n",
      "generator_conv_1 (Conv2DTran (None, 16, 16, 128)       819328    \n",
      "_________________________________________________________________\n",
      "batch_normalization_2 (Batch (None, 16, 16, 128)       512       \n",
      "_________________________________________________________________\n",
      "leaky_re_lu_6 (LeakyReLU)    (None, 16, 16, 128)       0         \n",
      "_________________________________________________________________\n",
      "generator_conv_2 (Conv2DTran (None, 32, 32, 64)        204864    \n",
      "_________________________________________________________________\n",
      "batch_normalization_3 (Batch (None, 32, 32, 64)        256       \n",
      "_________________________________________________________________\n",
      "leaky_re_lu_7 (LeakyReLU)    (None, 32, 32, 64)        0         \n",
      "_________________________________________________________________\n",
      "generator_conv_3 (Conv2DTran (None, 64, 64, 3)         4803      \n",
      "_________________________________________________________________\n",
      "activation (Activation)      (None, 64, 64, 3)         0         \n",
      "=================================================================\n",
      "Total params: 5,168,003\n",
      "Trainable params: 5,150,723\n",
      "Non-trainable params: 17,280\n",
      "_________________________________________________________________\n"
     ]
    }
   ],
   "source": [
    "gan.generator.summary()"
   ]
  },
  {
   "cell_type": "markdown",
   "metadata": {},
   "source": [
    "## training"
   ]
  },
  {
   "cell_type": "code",
   "execution_count": 10,
   "metadata": {},
   "outputs": [],
   "source": [
    "EPOCHS = 6000\n",
    "PRINT_EVERY_N_BATCHES = 100\n",
    "N_CRITIC = 5"
   ]
  },
  {
   "cell_type": "code",
   "execution_count": null,
   "metadata": {
    "scrolled": false
   },
   "outputs": [
    {
     "name": "stdout",
     "output_type": "stream",
     "text": [
      "WARNING:tensorflow:Discrepancy between trainable weights and collected trainable weights, did you set `model.trainable` without calling `model.compile` after ?\n",
      "WARNING:tensorflow:Discrepancy between trainable weights and collected trainable weights, did you set `model.trainable` without calling `model.compile` after ?\n",
      "0 (5, 1) [D loss: (-12.9)(R -18.1, F -0.0, G 0.5)] [G loss: 0.3]\n",
      "1 (5, 1) [D loss: (-275.7)(R -482.3, F 0.1, G 20.7)] [G loss: -2.0]\n",
      "2 (5, 1) [D loss: (-346.2)(R -603.8, F 0.5, G 25.7)] [G loss: -19.3]\n",
      "3 (5, 1) [D loss: (-354.2)(R -625.5, F -0.1, G 27.1)] [G loss: -36.3]\n",
      "4 (5, 1) [D loss: (-358.2)(R -614.5, F -0.0, G 25.6)] [G loss: -55.5]\n",
      "5 (5, 1) [D loss: (-366.6)(R -638.8, F -4.6, G 27.7)] [G loss: -55.8]\n",
      "6 (5, 1) [D loss: (-312.2)(R -891.7, F 11.3, G 56.8)] [G loss: -115.1]\n",
      "7 (5, 1) [D loss: (-370.1)(R -669.0, F 15.0, G 28.4)] [G loss: -124.9]\n",
      "8 (5, 1) [D loss: (-361.3)(R -649.6, F 18.3, G 27.0)] [G loss: -135.5]\n",
      "9 (5, 1) [D loss: (-360.1)(R -637.7, F 24.9, G 25.3)] [G loss: -153.3]\n",
      "10 (5, 1) [D loss: (-353.3)(R -646.3, F 35.6, G 25.7)] [G loss: -168.4]\n",
      "11 (5, 1) [D loss: (-342.8)(R -621.4, F 45.5, G 23.3)] [G loss: -188.0]\n",
      "12 (5, 1) [D loss: (-330.0)(R -623.8, F 60.4, G 23.3)] [G loss: -197.7]\n",
      "13 (5, 1) [D loss: (-315.2)(R -612.6, F 75.3, G 22.2)] [G loss: -208.6]\n",
      "14 (5, 1) [D loss: (-294.8)(R -573.5, F 87.3, G 19.1)] [G loss: -218.3]\n",
      "15 (5, 1) [D loss: (-279.7)(R -564.0, F 102.2, G 18.2)] [G loss: -226.3]\n",
      "16 (5, 1) [D loss: (-261.5)(R -541.3, F 113.7, G 16.6)] [G loss: -235.7]\n",
      "17 (5, 1) [D loss: (-242.3)(R -515.3, F 124.9, G 14.8)] [G loss: -233.4]\n",
      "18 (5, 1) [D loss: (-226.9)(R -518.4, F 143.1, G 14.8)] [G loss: -232.4]\n",
      "19 (5, 1) [D loss: (-212.1)(R -486.5, F 146.2, G 12.8)] [G loss: -236.7]\n",
      "20 (5, 1) [D loss: (-195.4)(R -469.1, F 155.4, G 11.8)] [G loss: -230.7]\n",
      "21 (5, 1) [D loss: (-180.9)(R -450.4, F 160.7, G 10.9)] [G loss: -231.2]\n",
      "22 (5, 1) [D loss: (-171.8)(R -444.7, F 168.8, G 10.4)] [G loss: -232.6]\n",
      "23 (5, 1) [D loss: (-158.4)(R -427.2, F 173.8, G 9.5)] [G loss: -227.7]\n",
      "24 (5, 1) [D loss: (-148.6)(R -414.8, F 178.2, G 8.8)] [G loss: -226.6]\n",
      "25 (5, 1) [D loss: (-138.6)(R -395.4, F 178.6, G 7.8)] [G loss: -224.9]\n",
      "26 (5, 1) [D loss: (-129.3)(R -387.0, F 183.5, G 7.4)] [G loss: -224.9]\n",
      "27 (5, 1) [D loss: (-121.3)(R -383.6, F 190.8, G 7.2)] [G loss: -222.6]\n",
      "28 (5, 1) [D loss: (-113.3)(R -359.9, F 185.5, G 6.1)] [G loss: -220.4]\n",
      "29 (5, 1) [D loss: (-106.8)(R -356.3, F 190.7, G 5.9)] [G loss: -218.3]\n",
      "30 (5, 1) [D loss: (-99.6)(R -340.0, F 188.3, G 5.2)] [G loss: -214.0]\n",
      "31 (5, 1) [D loss: (-94.4)(R -331.2, F 188.6, G 4.8)] [G loss: -214.8]\n",
      "32 (5, 1) [D loss: (-89.6)(R -327.1, F 191.3, G 4.6)] [G loss: -215.8]\n",
      "33 (5, 1) [D loss: (-82.0)(R -318.9, F 192.9, G 4.4)] [G loss: -199.8]\n",
      "34 (5, 1) [D loss: (-79.8)(R -306.4, F 187.8, G 3.9)] [G loss: -209.2]\n",
      "35 (5, 1) [D loss: (-75.9)(R -309.5, F 194.1, G 3.9)] [G loss: -204.7]\n",
      "36 (5, 1) [D loss: (-69.8)(R -292.1, F 188.1, G 3.4)] [G loss: -191.8]\n",
      "37 (5, 1) [D loss: (-66.9)(R -285.1, F 186.3, G 3.2)] [G loss: -194.8]\n",
      "38 (5, 1) [D loss: (-65.0)(R -278.5, F 184.3, G 2.9)] [G loss: -200.5]\n",
      "39 (5, 1) [D loss: (-59.9)(R -255.0, F 172.0, G 2.3)] [G loss: -197.4]\n",
      "40 (5, 1) [D loss: (-56.6)(R -265.6, F 183.2, G 2.6)] [G loss: -183.6]\n",
      "41 (5, 1) [D loss: (-55.9)(R -269.3, F 187.3, G 2.6)] [G loss: -191.2]\n",
      "42 (5, 1) [D loss: (-53.7)(R -255.4, F 179.2, G 2.2)] [G loss: -187.4]\n",
      "43 (5, 1) [D loss: (-51.5)(R -252.7, F 179.5, G 2.2)] [G loss: -187.9]\n",
      "44 (5, 1) [D loss: (-49.0)(R -243.4, F 175.2, G 1.9)] [G loss: -182.5]\n",
      "45 (5, 1) [D loss: (-46.8)(R -238.6, F 173.4, G 1.8)] [G loss: -183.1]\n",
      "46 (5, 1) [D loss: (-44.7)(R -231.3, F 170.1, G 1.7)] [G loss: -177.9]\n",
      "47 (5, 1) [D loss: (-45.0)(R -248.9, F 183.8, G 2.0)] [G loss: -183.5]\n",
      "48 (5, 1) [D loss: (-41.3)(R -230.0, F 172.6, G 1.6)] [G loss: -173.1]\n",
      "49 (5, 1) [D loss: (-39.7)(R -233.6, F 177.1, G 1.7)] [G loss: -169.6]\n",
      "50 (5, 1) [D loss: (-39.8)(R -221.8, F 167.9, G 1.4)] [G loss: -178.2]\n",
      "51 (5, 1) [D loss: (-38.0)(R -222.8, F 170.5, G 1.4)] [G loss: -167.1]\n",
      "52 (5, 1) [D loss: (-35.8)(R -218.6, F 169.3, G 1.4)] [G loss: -165.2]\n",
      "53 (5, 1) [D loss: (-35.7)(R -220.2, F 171.0, G 1.4)] [G loss: -168.0]\n",
      "54 (5, 1) [D loss: (-34.9)(R -220.3, F 171.8, G 1.4)] [G loss: -171.5]\n",
      "55 (5, 1) [D loss: (-33.8)(R -209.7, F 164.4, G 1.2)] [G loss: -170.6]\n",
      "56 (5, 1) [D loss: (-32.1)(R -205.8, F 162.7, G 1.1)] [G loss: -164.0]\n",
      "57 (5, 1) [D loss: (-31.9)(R -209.6, F 166.4, G 1.1)] [G loss: -164.4]\n",
      "58 (5, 1) [D loss: (-31.2)(R -204.8, F 163.2, G 1.0)] [G loss: -166.1]\n",
      "59 (5, 1) [D loss: (-29.9)(R -201.4, F 161.5, G 1.0)] [G loss: -161.0]\n",
      "60 (5, 1) [D loss: (-30.1)(R -198.5, F 159.2, G 0.9)] [G loss: -168.7]\n",
      "61 (5, 1) [D loss: (-28.4)(R -190.9, F 154.3, G 0.8)] [G loss: -161.5]\n",
      "62 (5, 1) [D loss: (-27.5)(R -190.0, F 154.5, G 0.8)] [G loss: -158.0]\n",
      "63 (5, 1) [D loss: (-27.5)(R -195.1, F 159.0, G 0.9)] [G loss: -159.5]\n",
      "64 (5, 1) [D loss: (-26.9)(R -196.1, F 160.4, G 0.9)] [G loss: -161.2]\n",
      "65 (5, 1) [D loss: (-26.0)(R -184.0, F 151.0, G 0.7)] [G loss: -159.6]\n",
      "66 (5, 1) [D loss: (-25.2)(R -193.3, F 159.6, G 0.8)] [G loss: -152.4]\n",
      "67 (5, 1) [D loss: (-24.8)(R -183.1, F 151.4, G 0.7)] [G loss: -156.1]\n",
      "68 (5, 1) [D loss: (-22.5)(R -201.0, F 168.8, G 1.0)] [G loss: -140.8]\n",
      "69 (5, 1) [D loss: (-25.2)(R -189.2, F 156.5, G 0.7)] [G loss: -166.7]\n",
      "70 (5, 1) [D loss: (-22.8)(R -186.7, F 156.4, G 0.8)] [G loss: -144.5]\n",
      "71 (5, 1) [D loss: (-22.8)(R -179.2, F 150.3, G 0.6)] [G loss: -157.7]\n",
      "72 (5, 1) [D loss: (-22.3)(R -186.1, F 157.0, G 0.7)] [G loss: -148.7]\n",
      "73 (5, 1) [D loss: (-21.2)(R -170.9, F 144.5, G 0.5)] [G loss: -150.2]\n",
      "74 (5, 1) [D loss: (-21.1)(R -170.6, F 144.3, G 0.5)] [G loss: -149.5]\n",
      "75 (5, 1) [D loss: (-21.5)(R -181.3, F 153.4, G 0.6)] [G loss: -150.5]\n",
      "76 (5, 1) [D loss: (-21.4)(R -174.1, F 147.4, G 0.5)] [G loss: -155.1]\n",
      "77 (5, 1) [D loss: (-19.8)(R -174.0, F 148.7, G 0.5)] [G loss: -141.9]\n",
      "78 (5, 1) [D loss: (-19.9)(R -164.6, F 140.3, G 0.5)] [G loss: -152.3]\n",
      "79 (5, 1) [D loss: (-19.7)(R -174.7, F 149.5, G 0.6)] [G loss: -148.6]\n",
      "80 (5, 1) [D loss: (-19.5)(R -166.1, F 142.1, G 0.5)] [G loss: -148.9]\n",
      "81 (5, 1) [D loss: (-19.0)(R -159.5, F 136.6, G 0.4)] [G loss: -143.4]\n",
      "82 (5, 1) [D loss: (-18.8)(R -168.2, F 144.5, G 0.5)] [G loss: -141.6]\n",
      "83 (5, 1) [D loss: (-18.5)(R -160.6, F 138.2, G 0.4)] [G loss: -147.6]\n",
      "84 (5, 1) [D loss: (-18.5)(R -158.1, F 135.9, G 0.4)] [G loss: -153.5]\n",
      "85 (5, 1) [D loss: (-17.5)(R -166.5, F 144.6, G 0.4)] [G loss: -130.5]\n",
      "86 (5, 1) [D loss: (-17.4)(R -169.9, F 147.5, G 0.5)] [G loss: -141.4]\n",
      "87 (5, 1) [D loss: (-17.3)(R -165.1, F 143.4, G 0.4)] [G loss: -145.2]\n",
      "88 (5, 1) [D loss: (-17.2)(R -155.4, F 134.6, G 0.4)] [G loss: -151.6]\n",
      "89 (5, 1) [D loss: (-16.1)(R -156.4, F 136.7, G 0.4)] [G loss: -138.5]\n",
      "90 (5, 1) [D loss: (-16.5)(R -156.1, F 135.8, G 0.4)] [G loss: -135.4]\n",
      "91 (5, 1) [D loss: (-15.8)(R -163.0, F 143.1, G 0.4)] [G loss: -134.0]\n",
      "92 (5, 1) [D loss: (-15.9)(R -161.5, F 141.4, G 0.4)] [G loss: -139.8]\n",
      "93 (5, 1) [D loss: (-15.9)(R -153.4, F 134.3, G 0.3)] [G loss: -143.7]\n",
      "94 (5, 1) [D loss: (-15.2)(R -171.2, F 151.2, G 0.5)] [G loss: -132.6]\n",
      "95 (5, 1) [D loss: (-15.2)(R -155.6, F 136.7, G 0.4)] [G loss: -142.4]\n",
      "96 (5, 1) [D loss: (-15.8)(R -151.1, F 132.5, G 0.3)] [G loss: -148.2]\n",
      "97 (5, 1) [D loss: (-13.7)(R -145.7, F 129.3, G 0.3)] [G loss: -119.3]\n",
      "98 (5, 1) [D loss: (-14.5)(R -147.1, F 129.8, G 0.3)] [G loss: -139.8]\n",
      "99 (5, 1) [D loss: (-14.1)(R -159.9, F 142.1, G 0.4)] [G loss: -125.2]\n",
      "100 (5, 1) [D loss: (-14.3)(R -143.4, F 126.2, G 0.3)] [G loss: -153.9]\n",
      "101 (5, 1) [D loss: (-14.1)(R -145.7, F 128.8, G 0.3)] [G loss: -136.6]\n",
      "102 (5, 1) [D loss: (-13.8)(R -145.2, F 128.7, G 0.3)] [G loss: -136.6]\n",
      "103 (5, 1) [D loss: (-13.4)(R -152.4, F 135.8, G 0.3)] [G loss: -131.8]\n",
      "104 (5, 1) [D loss: (-13.3)(R -150.3, F 134.3, G 0.3)] [G loss: -130.3]\n",
      "105 (5, 1) [D loss: (-12.9)(R -131.7, F 116.5, G 0.2)] [G loss: -120.3]\n",
      "106 (5, 1) [D loss: (-13.3)(R -160.4, F 143.5, G 0.4)] [G loss: -137.0]\n",
      "107 (5, 1) [D loss: (-12.6)(R -138.3, F 123.7, G 0.2)] [G loss: -130.3]\n",
      "108 (5, 1) [D loss: (-12.6)(R -147.8, F 131.9, G 0.3)] [G loss: -123.6]\n",
      "109 (5, 1) [D loss: (-12.4)(R -122.8, F 109.1, G 0.1)] [G loss: -125.9]\n",
      "110 (5, 1) [D loss: (-13.3)(R -142.8, F 127.0, G 0.2)] [G loss: -136.6]\n"
     ]
    },
    {
     "name": "stdout",
     "output_type": "stream",
     "text": [
      "111 (5, 1) [D loss: (-12.1)(R -151.2, F 134.7, G 0.4)] [G loss: -114.4]\n",
      "112 (5, 1) [D loss: (-12.7)(R -141.4, F 126.2, G 0.3)] [G loss: -133.5]\n",
      "113 (5, 1) [D loss: (-12.5)(R -125.3, F 110.8, G 0.2)] [G loss: -118.6]\n",
      "114 (5, 1) [D loss: (-12.6)(R -119.0, F 104.9, G 0.2)] [G loss: -132.0]\n",
      "115 (5, 1) [D loss: (-12.1)(R -143.1, F 128.8, G 0.2)] [G loss: -125.8]\n",
      "116 (5, 1) [D loss: (-12.4)(R -138.1, F 123.6, G 0.2)] [G loss: -133.0]\n",
      "117 (5, 1) [D loss: (-11.5)(R -130.8, F 117.5, G 0.2)] [G loss: -126.6]\n",
      "118 (5, 1) [D loss: (-11.3)(R -131.6, F 118.3, G 0.2)] [G loss: -121.3]\n",
      "119 (5, 1) [D loss: (-11.7)(R -135.2, F 121.5, G 0.2)] [G loss: -136.7]\n",
      "120 (5, 1) [D loss: (-11.9)(R -131.3, F 117.1, G 0.2)] [G loss: -118.0]\n",
      "121 (5, 1) [D loss: (-12.2)(R -135.8, F 121.0, G 0.3)] [G loss: -119.5]\n",
      "122 (5, 1) [D loss: (-12.5)(R -145.1, F 129.1, G 0.3)] [G loss: -123.2]\n",
      "123 (5, 1) [D loss: (-12.1)(R -113.3, F 99.3, G 0.2)] [G loss: -109.4]\n",
      "124 (5, 1) [D loss: (-12.0)(R -139.1, F 124.6, G 0.3)] [G loss: -112.8]\n",
      "125 (5, 1) [D loss: (-12.0)(R -111.6, F 98.3, G 0.1)] [G loss: -136.7]\n",
      "126 (5, 1) [D loss: (-11.1)(R -139.8, F 125.5, G 0.3)] [G loss: -100.8]\n",
      "127 (5, 1) [D loss: (-11.6)(R -111.6, F 98.2, G 0.2)] [G loss: -112.3]\n",
      "128 (5, 1) [D loss: (-11.8)(R -120.2, F 106.6, G 0.2)] [G loss: -111.2]\n",
      "129 (5, 1) [D loss: (-11.9)(R -133.7, F 119.3, G 0.2)] [G loss: -113.4]\n",
      "130 (5, 1) [D loss: (-11.4)(R -127.9, F 114.7, G 0.2)] [G loss: -109.4]\n",
      "131 (5, 1) [D loss: (-11.8)(R -113.9, F 100.4, G 0.2)] [G loss: -115.8]\n",
      "132 (5, 1) [D loss: (-11.7)(R -120.0, F 106.4, G 0.2)] [G loss: -120.8]\n",
      "133 (5, 1) [D loss: (-10.6)(R -116.7, F 103.5, G 0.3)] [G loss: -101.5]\n",
      "134 (5, 1) [D loss: (-11.6)(R -119.5, F 105.8, G 0.2)] [G loss: -114.3]\n",
      "135 (5, 1) [D loss: (-11.6)(R -116.4, F 102.7, G 0.2)] [G loss: -111.4]\n",
      "136 (5, 1) [D loss: (-11.9)(R -122.9, F 108.9, G 0.2)] [G loss: -98.8]\n",
      "137 (5, 1) [D loss: (-11.7)(R -136.7, F 121.7, G 0.3)] [G loss: -101.2]\n",
      "138 (5, 1) [D loss: (-11.9)(R -125.2, F 111.3, G 0.2)] [G loss: -115.6]\n",
      "139 (5, 1) [D loss: (-11.4)(R -128.2, F 114.2, G 0.3)] [G loss: -100.6]\n",
      "140 (5, 1) [D loss: (-11.0)(R -116.0, F 102.9, G 0.2)] [G loss: -112.8]\n",
      "141 (5, 1) [D loss: (-11.0)(R -101.5, F 88.9, G 0.2)] [G loss: -93.5]\n",
      "142 (5, 1) [D loss: (-12.0)(R -128.4, F 114.0, G 0.2)] [G loss: -110.8]\n",
      "143 (5, 1) [D loss: (-11.4)(R -135.8, F 120.7, G 0.4)] [G loss: -95.8]\n",
      "144 (5, 1) [D loss: (-11.4)(R -125.6, F 111.5, G 0.3)] [G loss: -107.9]\n",
      "145 (5, 1) [D loss: (-11.7)(R -120.5, F 106.7, G 0.2)] [G loss: -103.6]\n",
      "146 (5, 1) [D loss: (-11.3)(R -104.0, F 90.8, G 0.2)] [G loss: -98.1]\n",
      "147 (5, 1) [D loss: (-11.7)(R -119.8, F 106.2, G 0.2)] [G loss: -108.5]\n",
      "148 (5, 1) [D loss: (-11.1)(R -116.6, F 103.4, G 0.2)] [G loss: -93.2]\n",
      "149 (5, 1) [D loss: (-11.2)(R -116.8, F 103.4, G 0.2)] [G loss: -98.3]\n",
      "150 (5, 1) [D loss: (-11.3)(R -108.0, F 95.2, G 0.1)] [G loss: -108.4]\n",
      "151 (5, 1) [D loss: (-11.3)(R -118.2, F 104.6, G 0.2)] [G loss: -103.0]\n",
      "152 (5, 1) [D loss: (-10.9)(R -117.5, F 104.5, G 0.2)] [G loss: -102.9]\n",
      "153 (5, 1) [D loss: (-10.8)(R -125.7, F 112.2, G 0.3)] [G loss: -87.5]\n",
      "154 (5, 1) [D loss: (-11.0)(R -98.6, F 85.8, G 0.2)] [G loss: -104.4]\n",
      "155 (5, 1) [D loss: (-10.9)(R -112.4, F 99.5, G 0.2)] [G loss: -107.6]\n",
      "156 (5, 1) [D loss: (-10.5)(R -117.6, F 104.7, G 0.2)] [G loss: -96.4]\n",
      "157 (5, 1) [D loss: (-10.4)(R -108.2, F 95.5, G 0.2)] [G loss: -87.4]\n",
      "158 (5, 1) [D loss: (-10.6)(R -109.2, F 97.1, G 0.2)] [G loss: -100.2]\n",
      "159 (5, 1) [D loss: (-11.0)(R -127.6, F 114.3, G 0.2)] [G loss: -106.3]\n",
      "160 (5, 1) [D loss: (-10.8)(R -105.0, F 91.8, G 0.2)] [G loss: -95.8]\n",
      "161 (5, 1) [D loss: (-10.7)(R -117.5, F 104.3, G 0.2)] [G loss: -97.1]\n",
      "162 (5, 1) [D loss: (-10.5)(R -90.9, F 78.9, G 0.2)] [G loss: -100.2]\n",
      "163 (5, 1) [D loss: (-10.7)(R -108.9, F 96.1, G 0.2)] [G loss: -95.5]\n",
      "164 (5, 1) [D loss: (-10.8)(R -113.9, F 100.8, G 0.2)] [G loss: -95.9]\n",
      "165 (5, 1) [D loss: (-10.5)(R -103.4, F 90.9, G 0.2)] [G loss: -83.2]\n",
      "166 (5, 1) [D loss: (-11.1)(R -109.6, F 96.4, G 0.2)] [G loss: -108.6]\n",
      "167 (5, 1) [D loss: (-11.2)(R -117.1, F 103.7, G 0.2)] [G loss: -101.9]\n",
      "168 (5, 1) [D loss: (-10.1)(R -101.8, F 90.1, G 0.2)] [G loss: -106.5]\n",
      "169 (5, 1) [D loss: (-10.5)(R -107.0, F 94.4, G 0.2)] [G loss: -91.0]\n",
      "170 (5, 1) [D loss: (-10.2)(R -98.7, F 86.2, G 0.2)] [G loss: -89.7]\n",
      "171 (5, 1) [D loss: (-11.0)(R -119.1, F 105.4, G 0.3)] [G loss: -90.0]\n",
      "172 (5, 1) [D loss: (-10.6)(R -113.1, F 100.3, G 0.2)] [G loss: -107.1]\n",
      "173 (5, 1) [D loss: (-10.7)(R -112.9, F 99.9, G 0.2)] [G loss: -87.2]\n",
      "174 (5, 1) [D loss: (-10.4)(R -109.5, F 96.5, G 0.3)] [G loss: -97.3]\n",
      "175 (5, 1) [D loss: (-9.9)(R -100.2, F 87.8, G 0.2)] [G loss: -75.7]\n",
      "176 (5, 1) [D loss: (-11.1)(R -85.4, F 72.8, G 0.2)] [G loss: -75.5]\n",
      "177 (5, 1) [D loss: (-11.6)(R -115.3, F 101.5, G 0.2)] [G loss: -117.4]\n",
      "178 (5, 1) [D loss: (-10.4)(R -93.6, F 81.5, G 0.2)] [G loss: -96.1]\n",
      "179 (5, 1) [D loss: (-10.3)(R -95.3, F 83.3, G 0.2)] [G loss: -81.4]\n",
      "180 (5, 1) [D loss: (-9.7)(R -80.2, F 68.9, G 0.2)] [G loss: -78.4]\n",
      "181 (5, 1) [D loss: (-10.9)(R -96.8, F 83.9, G 0.2)] [G loss: -72.6]\n",
      "182 (5, 1) [D loss: (-11.2)(R -82.4, F 70.0, G 0.1)] [G loss: -82.4]\n",
      "183 (5, 1) [D loss: (-11.7)(R -107.2, F 93.8, G 0.2)] [G loss: -106.7]\n",
      "184 (5, 1) [D loss: (-10.2)(R -104.7, F 92.1, G 0.2)] [G loss: -76.6]\n",
      "185 (5, 1) [D loss: (-10.3)(R -92.6, F 80.4, G 0.2)] [G loss: -86.8]\n",
      "186 (5, 1) [D loss: (-9.9)(R -100.9, F 89.1, G 0.2)] [G loss: -90.6]\n",
      "187 (5, 1) [D loss: (-10.3)(R -95.4, F 82.4, G 0.3)] [G loss: -68.7]\n",
      "188 (5, 1) [D loss: (-10.8)(R -124.1, F 110.2, G 0.3)] [G loss: -90.8]\n",
      "189 (5, 1) [D loss: (-10.7)(R -98.2, F 85.3, G 0.2)] [G loss: -86.7]\n",
      "190 (5, 1) [D loss: (-10.7)(R -100.0, F 87.1, G 0.2)] [G loss: -84.7]\n",
      "191 (5, 1) [D loss: (-10.5)(R -97.8, F 85.3, G 0.2)] [G loss: -87.1]\n",
      "192 (5, 1) [D loss: (-10.2)(R -100.3, F 87.9, G 0.2)] [G loss: -88.5]\n",
      "193 (5, 1) [D loss: (-9.9)(R -83.5, F 71.7, G 0.2)] [G loss: -79.5]\n",
      "194 (5, 1) [D loss: (-9.9)(R -112.6, F 99.2, G 0.3)] [G loss: -79.6]\n",
      "195 (5, 1) [D loss: (-10.2)(R -103.7, F 91.4, G 0.2)] [G loss: -82.6]\n",
      "196 (5, 1) [D loss: (-10.4)(R -87.1, F 74.6, G 0.2)] [G loss: -70.6]\n",
      "197 (5, 1) [D loss: (-10.0)(R -96.5, F 83.7, G 0.3)] [G loss: -80.6]\n",
      "198 (5, 1) [D loss: (-10.5)(R -103.3, F 90.9, G 0.2)] [G loss: -90.5]\n",
      "199 (5, 1) [D loss: (-10.5)(R -88.2, F 76.5, G 0.1)] [G loss: -91.9]\n",
      "200 (5, 1) [D loss: (-10.0)(R -91.3, F 79.0, G 0.2)] [G loss: -82.5]\n",
      "201 (5, 1) [D loss: (-9.4)(R -94.8, F 83.1, G 0.2)] [G loss: -81.7]\n",
      "202 (5, 1) [D loss: (-10.1)(R -95.7, F 84.2, G 0.1)] [G loss: -87.6]\n",
      "203 (5, 1) [D loss: (-9.7)(R -92.3, F 80.4, G 0.2)] [G loss: -84.4]\n",
      "204 (5, 1) [D loss: (-10.2)(R -100.8, F 88.7, G 0.2)] [G loss: -92.3]\n",
      "205 (5, 1) [D loss: (-9.7)(R -90.7, F 79.0, G 0.2)] [G loss: -78.7]\n",
      "206 (5, 1) [D loss: (-9.7)(R -98.8, F 86.3, G 0.3)] [G loss: -73.7]\n",
      "207 (5, 1) [D loss: (-10.4)(R -101.9, F 89.1, G 0.2)] [G loss: -82.1]\n",
      "208 (5, 1) [D loss: (-10.5)(R -91.7, F 79.0, G 0.2)] [G loss: -82.6]\n",
      "209 (5, 1) [D loss: (-10.3)(R -95.5, F 83.2, G 0.2)] [G loss: -76.9]\n",
      "210 (5, 1) [D loss: (-10.0)(R -89.4, F 77.7, G 0.2)] [G loss: -89.1]\n",
      "211 (5, 1) [D loss: (-10.3)(R -86.5, F 74.4, G 0.2)] [G loss: -77.8]\n",
      "212 (5, 1) [D loss: (-10.4)(R -92.2, F 79.8, G 0.2)] [G loss: -75.9]\n",
      "213 (5, 1) [D loss: (-10.5)(R -109.0, F 96.2, G 0.2)] [G loss: -88.5]\n",
      "214 (5, 1) [D loss: (-10.6)(R -101.5, F 88.5, G 0.2)] [G loss: -72.6]\n",
      "215 (5, 1) [D loss: (-10.6)(R -96.3, F 83.7, G 0.2)] [G loss: -72.1]\n",
      "216 (5, 1) [D loss: (-10.3)(R -110.8, F 97.4, G 0.3)] [G loss: -79.2]\n",
      "217 (5, 1) [D loss: (-10.1)(R -97.9, F 85.5, G 0.2)] [G loss: -85.4]\n",
      "218 (5, 1) [D loss: (-9.1)(R -96.6, F 83.9, G 0.4)] [G loss: -63.9]\n",
      "219 (5, 1) [D loss: (-9.4)(R -86.3, F 74.6, G 0.2)] [G loss: -71.5]\n",
      "220 (5, 1) [D loss: (-10.0)(R -83.4, F 71.5, G 0.2)] [G loss: -71.8]\n",
      "221 (5, 1) [D loss: (-9.7)(R -76.1, F 64.5, G 0.2)] [G loss: -75.5]\n",
      "222 (5, 1) [D loss: (-10.4)(R -83.6, F 71.6, G 0.2)] [G loss: -69.7]\n",
      "223 (5, 1) [D loss: (-10.5)(R -90.2, F 77.9, G 0.2)] [G loss: -82.1]\n",
      "224 (5, 1) [D loss: (-10.1)(R -93.6, F 81.2, G 0.2)] [G loss: -87.8]\n",
      "225 (5, 1) [D loss: (-10.0)(R -76.1, F 64.2, G 0.2)] [G loss: -70.8]\n",
      "226 (5, 1) [D loss: (-10.6)(R -89.3, F 76.6, G 0.2)] [G loss: -72.0]\n",
      "227 (5, 1) [D loss: (-10.8)(R -91.7, F 78.9, G 0.2)] [G loss: -75.6]\n"
     ]
    },
    {
     "name": "stdout",
     "output_type": "stream",
     "text": [
      "228 (5, 1) [D loss: (-9.9)(R -97.3, F 84.6, G 0.3)] [G loss: -70.2]\n",
      "229 (5, 1) [D loss: (-10.3)(R -91.2, F 79.1, G 0.2)] [G loss: -70.5]\n",
      "230 (5, 1) [D loss: (-10.2)(R -81.7, F 69.9, G 0.2)] [G loss: -73.3]\n",
      "231 (5, 1) [D loss: (-9.8)(R -94.4, F 82.3, G 0.2)] [G loss: -84.6]\n",
      "232 (5, 1) [D loss: (-9.5)(R -79.7, F 67.6, G 0.3)] [G loss: -60.3]\n",
      "233 (5, 1) [D loss: (-9.9)(R -54.9, F 43.3, G 0.2)] [G loss: -52.4]\n",
      "234 (5, 1) [D loss: (-10.6)(R -101.7, F 89.1, G 0.2)] [G loss: -83.3]\n",
      "235 (5, 1) [D loss: (-10.1)(R -73.9, F 62.0, G 0.2)] [G loss: -77.1]\n",
      "236 (5, 1) [D loss: (-9.2)(R -72.4, F 61.6, G 0.2)] [G loss: -67.9]\n",
      "237 (5, 1) [D loss: (-9.7)(R -60.8, F 48.9, G 0.2)] [G loss: -48.4]\n",
      "238 (5, 1) [D loss: (-10.0)(R -92.5, F 80.8, G 0.2)] [G loss: -87.4]\n",
      "239 (5, 1) [D loss: (-10.0)(R -92.6, F 80.5, G 0.2)] [G loss: -82.7]\n"
     ]
    }
   ],
   "source": [
    "gan.train(     \n",
    "    x_train\n",
    "    , batch_size = BATCH_SIZE\n",
    "    , epochs = EPOCHS\n",
    "    , run_folder = RUN_FOLDER\n",
    "    , print_every_n_batches = PRINT_EVERY_N_BATCHES\n",
    "    , n_critic = N_CRITIC\n",
    "    , using_generator = True\n",
    ")"
   ]
  },
  {
   "cell_type": "code",
   "execution_count": null,
   "metadata": {},
   "outputs": [],
   "source": [
    "fig = plt.figure()\n",
    "plt.plot([x[0] for x in gan.d_losses], color='black', linewidth=0.25)\n",
    "\n",
    "plt.plot([x[1] for x in gan.d_losses], color='green', linewidth=0.25)\n",
    "plt.plot([x[2] for x in gan.d_losses], color='red', linewidth=0.25)\n",
    "plt.plot(gan.g_losses, color='orange', linewidth=0.25)\n",
    "\n",
    "plt.xlabel('batch', fontsize=18)\n",
    "plt.ylabel('loss', fontsize=16)\n",
    "\n",
    "plt.xlim(0, 13000)\n",
    "# plt.ylim(0, 2)\n",
    "\n",
    "plt.show()\n"
   ]
  },
  {
   "cell_type": "code",
   "execution_count": null,
   "metadata": {},
   "outputs": [],
   "source": []
  }
 ],
 "metadata": {
  "kernelspec": {
   "display_name": "generative",
   "language": "python",
   "name": "generative"
  },
  "language_info": {
   "codemirror_mode": {
    "name": "ipython",
    "version": 3
   },
   "file_extension": ".py",
   "mimetype": "text/x-python",
   "name": "python",
   "nbconvert_exporter": "python",
   "pygments_lexer": "ipython3",
   "version": "3.7.12"
  }
 },
 "nbformat": 4,
 "nbformat_minor": 2
}
