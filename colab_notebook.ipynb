{
  "cells": [
    {
      "cell_type": "markdown",
      "source": [
        "Clone and set repo as current folder"
      ],
      "metadata": {
        "id": "NtN8_MPAU_M4"
      }
    },
    {
      "cell_type": "code",
      "execution_count": null,
      "metadata": {
        "id": "ZSXl-0ivQvEp"
      },
      "outputs": [],
      "source": [
        "!git clone -b WGAN-GP-64 'https://github.com/leogenot/GenerativeDeepDrawing/'\n",
        "%cd GenerativeDeepDrawing"
      ]
    },
    {
      "cell_type": "markdown",
      "source": [
        "Imports"
      ],
      "metadata": {
        "id": "3gCfi_gAVGt5"
      }
    },
    {
      "cell_type": "code",
      "source": [
        "import os\n",
        "import matplotlib.pyplot as plt\n",
        "\n",
        "from models.WGANGP import WGANGP\n",
        "from utils.loaders import load_dataset\n",
        "\n",
        "import pickle\n",
        "import tensorflow as tf"
      ],
      "metadata": {
        "id": "tXiePFVaUgsa"
      },
      "execution_count": null,
      "outputs": []
    },
    {
      "cell_type": "markdown",
      "source": [
        "Run parameters"
      ],
      "metadata": {
        "id": "IUdipPS8VJwE"
      }
    },
    {
      "cell_type": "code",
      "source": [
        "# run params\n",
        "SECTION = 'gan'\n",
        "RUN_ID = '0003'\n",
        "DATA_NAME = 'dataset64'\n",
        "RUN_FOLDER = 'run/{}/'.format(SECTION)\n",
        "RUN_FOLDER += '_'.join([RUN_ID, DATA_NAME])\n",
        "\n",
        "if not os.path.exists(RUN_FOLDER):\n",
        "    os.mkdir(RUN_FOLDER)\n",
        "    os.mkdir(os.path.join(RUN_FOLDER, 'viz'))\n",
        "    os.mkdir(os.path.join(RUN_FOLDER, 'images'))\n",
        "    os.mkdir(os.path.join(RUN_FOLDER, 'weights'))\n",
        "\n",
        "mode =  'load' #'load' to load old training or 'build' to create new training #"
      ],
      "metadata": {
        "id": "eja6k3N5UlOX"
      },
      "execution_count": null,
      "outputs": []
    },
    {
      "cell_type": "markdown",
      "source": [
        "Training params"
      ],
      "metadata": {
        "id": "YhjZKBZCVXy1"
      }
    },
    {
      "cell_type": "code",
      "source": [
        "BATCH_SIZE = 64\n",
        "IMAGE_SIZE = 64"
      ],
      "metadata": {
        "id": "SrZxOio3UnqQ"
      },
      "execution_count": null,
      "outputs": []
    },
    {
      "cell_type": "markdown",
      "source": [
        "Load training"
      ],
      "metadata": {
        "id": "kcQf1p4FVa7Z"
      }
    },
    {
      "cell_type": "code",
      "source": [
        "x_train = load_dataset(DATA_NAME, IMAGE_SIZE, BATCH_SIZE)\n"
      ],
      "metadata": {
        "id": "njuE1m1AUpMG"
      },
      "execution_count": null,
      "outputs": []
    },
    {
      "cell_type": "markdown",
      "source": [
        "Show image as array (as an example)"
      ],
      "metadata": {
        "id": "kbfHFmNMVd5x"
      }
    },
    {
      "cell_type": "code",
      "source": [
        "x_train[0][0][0]"
      ],
      "metadata": {
        "id": "HUoebBpwUqP6"
      },
      "execution_count": null,
      "outputs": []
    },
    {
      "cell_type": "markdown",
      "source": [
        "Show image"
      ],
      "metadata": {
        "id": "IrYkTRwbVlwG"
      }
    },
    {
      "cell_type": "code",
      "source": [
        "plt.imshow((x_train[0][0][0]+1)/2)\n"
      ],
      "metadata": {
        "id": "uIjaMO1lUrw4"
      },
      "execution_count": null,
      "outputs": []
    },
    {
      "cell_type": "markdown",
      "source": [
        "WGAN parameters"
      ],
      "metadata": {
        "id": "W7qd9v31VnLA"
      }
    },
    {
      "cell_type": "code",
      "source": [
        "gan = WGANGP(input_dim = (IMAGE_SIZE,IMAGE_SIZE,3)\n",
        "        , critic_conv_filters = [64,128,256,512]\n",
        "        , critic_conv_kernel_size = [5,5,5,5]\n",
        "        , critic_conv_strides = [2,2,2,2]\n",
        "        , critic_batch_norm_momentum = None\n",
        "        , critic_activation = 'leaky_relu'\n",
        "        , critic_dropout_rate = None\n",
        "        , critic_learning_rate = 0.0002\n",
        "        , generator_initial_dense_layer_size = (4, 4, 512)\n",
        "        , generator_upsample = [1,1,1,1]\n",
        "        , generator_conv_filters = [256,128,64,3]\n",
        "        , generator_conv_kernel_size = [5,5,5,5]\n",
        "        , generator_conv_strides = [2,2,2,2]\n",
        "        , generator_batch_norm_momentum = 0.9\n",
        "        , generator_activation = 'leaky_relu'\n",
        "        , generator_dropout_rate = None\n",
        "        , generator_learning_rate = 0.0002\n",
        "        , optimiser = 'adam'\n",
        "        , grad_weight = 10\n",
        "        , z_dim = 100\n",
        "        , batch_size = BATCH_SIZE\n",
        "        )\n",
        "\n",
        "if mode == 'build':\n",
        "    gan.save(RUN_FOLDER)\n",
        "\n",
        "else:\n",
        "    gan.load_weights(os.path.join(RUN_FOLDER, 'weights/weights.h5'))\n"
      ],
      "metadata": {
        "id": "EQKOCtjcUtVt"
      },
      "execution_count": null,
      "outputs": []
    },
    {
      "cell_type": "markdown",
      "source": [
        "Summary of critic parameters (saved in ./run/gan/FOLDER_NAME/viz"
      ],
      "metadata": {
        "id": "4SQz_j79Vp9h"
      }
    },
    {
      "cell_type": "code",
      "source": [
        "gan.critic.summary()\n"
      ],
      "metadata": {
        "id": "I7P83OG4Uwdp"
      },
      "execution_count": null,
      "outputs": []
    },
    {
      "cell_type": "markdown",
      "source": [
        "Summary of generator parameters (saved in ./run/gan/FOLDER_NAME/viz"
      ],
      "metadata": {
        "id": "1excehJKV3lI"
      }
    },
    {
      "cell_type": "code",
      "source": [
        "gan.generator.summary()\n"
      ],
      "metadata": {
        "id": "HL37FfDlUzsE"
      },
      "execution_count": null,
      "outputs": []
    },
    {
      "cell_type": "markdown",
      "source": [
        "Training parameters"
      ],
      "metadata": {
        "id": "G0yrG7u1V5U8"
      }
    },
    {
      "cell_type": "code",
      "source": [
        "EPOCHS = 6501\n",
        "PRINT_EVERY_N_BATCHES = 500\n",
        "N_CRITIC = 5\n",
        "BATCH_SIZE = 64\n"
      ],
      "metadata": {
        "id": "pO815Z4eU1bP"
      },
      "execution_count": null,
      "outputs": []
    },
    {
      "cell_type": "markdown",
      "source": [
        "Actual training"
      ],
      "metadata": {
        "id": "4fIIrlzuV7Ji"
      }
    },
    {
      "cell_type": "code",
      "source": [
        "gan.train(     \n",
        "    x_train\n",
        "    , batch_size = BATCH_SIZE\n",
        "    , epochs = EPOCHS\n",
        "    , run_folder = RUN_FOLDER\n",
        "    , print_every_n_batches = PRINT_EVERY_N_BATCHES\n",
        "    , n_critic = N_CRITIC\n",
        "    , using_generator = True\n",
        ")"
      ],
      "metadata": {
        "id": "XIz3J6ZQU3q_"
      },
      "execution_count": null,
      "outputs": []
    },
    {
      "cell_type": "markdown",
      "source": [
        "Plot of the training to see how it converged"
      ],
      "metadata": {
        "id": "hq8Vfr0-V8wo"
      }
    },
    {
      "cell_type": "code",
      "source": [
        "fig = plt.figure()\n",
        "plt.plot([x[0] for x in gan.d_losses], color='black', linewidth=0.25)\n",
        "\n",
        "plt.plot([x[1] for x in gan.d_losses], color='green', linewidth=0.25)\n",
        "plt.plot([x[2] for x in gan.d_losses], color='red', linewidth=0.25)\n",
        "plt.plot(gan.g_losses, color='orange', linewidth=0.25)\n",
        "\n",
        "plt.xlabel('batch', fontsize=18)\n",
        "plt.ylabel('loss', fontsize=16)\n",
        "\n",
        "plt.xlim(0, 2000)\n",
        "# plt.ylim(0, 2)\n",
        "\n",
        "plt.show()\n"
      ],
      "metadata": {
        "id": "Gwyf_smLU51S"
      },
      "execution_count": null,
      "outputs": []
    },
    {
      "cell_type": "code",
      "source": [
        ""
      ],
      "metadata": {
        "id": "nU2knQ04U7rf"
      },
      "execution_count": null,
      "outputs": []
    }
  ],
  "metadata": {
    "colab": {
      "name": "colab_notebook.ipynb",
      "provenance": [],
      "collapsed_sections": []
    },
    "kernelspec": {
      "display_name": "Python 3",
      "name": "python3"
    },
    "language_info": {
      "name": "python"
    }
  },
  "nbformat": 4,
  "nbformat_minor": 0
}