{
 "cells": [
  {
   "cell_type": "markdown",
   "metadata": {},
   "source": [
    "# WGAN-GP Training"
   ]
  },
  {
   "cell_type": "markdown",
   "metadata": {},
   "source": [
    "## imports"
   ]
  },
  {
   "cell_type": "code",
   "execution_count": 1,
   "metadata": {},
   "outputs": [],
   "source": [
    "%matplotlib inline\n",
    "\n",
    "import os\n",
    "import matplotlib.pyplot as plt\n",
    "\n",
    "from models.WGANGP import WGANGP\n",
    "from utils.loaders import load_celeb\n",
    "\n",
    "import pickle\n"
   ]
  },
  {
   "cell_type": "code",
   "execution_count": 19,
   "metadata": {},
   "outputs": [],
   "source": [
    "BATCH_SIZE = 128\n",
    "IMAGE_SIZE = 128"
   ]
  },
  {
   "cell_type": "code",
   "execution_count": 21,
   "metadata": {},
   "outputs": [
    {
     "name": "stdout",
     "output_type": "stream",
     "text": [
      "Nombre d'images dans le dataset : 20000\n"
     ]
    },
    {
     "ename": "KeyboardInterrupt",
     "evalue": "",
     "output_type": "error",
     "traceback": [
      "\u001b[1;31m---------------------------------------------------------------------------\u001b[0m",
      "\u001b[1;31mKeyboardInterrupt\u001b[0m                         Traceback (most recent call last)",
      "\u001b[1;32m<ipython-input-21-c13e2775ea77>\u001b[0m in \u001b[0;36m<module>\u001b[1;34m\u001b[0m\n\u001b[0;32m     22\u001b[0m         \u001b[0mf\u001b[0m \u001b[1;33m=\u001b[0m \u001b[0mos\u001b[0m\u001b[1;33m.\u001b[0m\u001b[0mpath\u001b[0m\u001b[1;33m.\u001b[0m\u001b[0mjoin\u001b[0m\u001b[1;33m(\u001b[0m\u001b[0msub\u001b[0m\u001b[1;33m,\u001b[0m\u001b[0mfilename\u001b[0m\u001b[1;33m)\u001b[0m\u001b[1;33m\u001b[0m\u001b[1;33m\u001b[0m\u001b[0m\n\u001b[0;32m     23\u001b[0m         \u001b[1;31m# load the image\u001b[0m\u001b[1;33m\u001b[0m\u001b[1;33m\u001b[0m\u001b[1;33m\u001b[0m\u001b[0m\n\u001b[1;32m---> 24\u001b[1;33m         \u001b[0mim\u001b[0m \u001b[1;33m=\u001b[0m \u001b[0mnp\u001b[0m\u001b[1;33m.\u001b[0m\u001b[0marray\u001b[0m\u001b[1;33m(\u001b[0m\u001b[0mImage\u001b[0m\u001b[1;33m.\u001b[0m\u001b[0mopen\u001b[0m\u001b[1;33m(\u001b[0m\u001b[0mf\u001b[0m\u001b[1;33m)\u001b[0m\u001b[1;33m.\u001b[0m\u001b[0mconvert\u001b[0m\u001b[1;33m(\u001b[0m\u001b[1;34m'L'\u001b[0m\u001b[1;33m)\u001b[0m\u001b[1;33m)\u001b[0m\u001b[1;33m\u001b[0m\u001b[1;33m\u001b[0m\u001b[0m\n\u001b[0m\u001b[0;32m     25\u001b[0m \u001b[1;33m\u001b[0m\u001b[0m\n\u001b[0;32m     26\u001b[0m         \u001b[1;31m# Resize image and convert in greycolor\u001b[0m\u001b[1;33m\u001b[0m\u001b[1;33m\u001b[0m\u001b[1;33m\u001b[0m\u001b[0m\n",
      "\u001b[1;32m~\\.conda\\envs\\generative\\lib\\site-packages\\PIL\\Image.py\u001b[0m in \u001b[0;36mconvert\u001b[1;34m(self, mode, matrix, dither, palette, colors)\u001b[0m\n\u001b[0;32m    928\u001b[0m         \"\"\"\n\u001b[0;32m    929\u001b[0m \u001b[1;33m\u001b[0m\u001b[0m\n\u001b[1;32m--> 930\u001b[1;33m         \u001b[0mself\u001b[0m\u001b[1;33m.\u001b[0m\u001b[0mload\u001b[0m\u001b[1;33m(\u001b[0m\u001b[1;33m)\u001b[0m\u001b[1;33m\u001b[0m\u001b[1;33m\u001b[0m\u001b[0m\n\u001b[0m\u001b[0;32m    931\u001b[0m \u001b[1;33m\u001b[0m\u001b[0m\n\u001b[0;32m    932\u001b[0m         \u001b[1;32mif\u001b[0m \u001b[1;32mnot\u001b[0m \u001b[0mmode\u001b[0m \u001b[1;32mand\u001b[0m \u001b[0mself\u001b[0m\u001b[1;33m.\u001b[0m\u001b[0mmode\u001b[0m \u001b[1;33m==\u001b[0m \u001b[1;34m\"P\"\u001b[0m\u001b[1;33m:\u001b[0m\u001b[1;33m\u001b[0m\u001b[1;33m\u001b[0m\u001b[0m\n",
      "\u001b[1;32m~\\.conda\\envs\\generative\\lib\\site-packages\\PIL\\ImageFile.py\u001b[0m in \u001b[0;36mload\u001b[1;34m(self)\u001b[0m\n\u001b[0;32m    251\u001b[0m \u001b[1;33m\u001b[0m\u001b[0m\n\u001b[0;32m    252\u001b[0m                             \u001b[0mb\u001b[0m \u001b[1;33m=\u001b[0m \u001b[0mb\u001b[0m \u001b[1;33m+\u001b[0m \u001b[0ms\u001b[0m\u001b[1;33m\u001b[0m\u001b[1;33m\u001b[0m\u001b[0m\n\u001b[1;32m--> 253\u001b[1;33m                             \u001b[0mn\u001b[0m\u001b[1;33m,\u001b[0m \u001b[0merr_code\u001b[0m \u001b[1;33m=\u001b[0m \u001b[0mdecoder\u001b[0m\u001b[1;33m.\u001b[0m\u001b[0mdecode\u001b[0m\u001b[1;33m(\u001b[0m\u001b[0mb\u001b[0m\u001b[1;33m)\u001b[0m\u001b[1;33m\u001b[0m\u001b[1;33m\u001b[0m\u001b[0m\n\u001b[0m\u001b[0;32m    254\u001b[0m                             \u001b[1;32mif\u001b[0m \u001b[0mn\u001b[0m \u001b[1;33m<\u001b[0m \u001b[1;36m0\u001b[0m\u001b[1;33m:\u001b[0m\u001b[1;33m\u001b[0m\u001b[1;33m\u001b[0m\u001b[0m\n\u001b[0;32m    255\u001b[0m                                 \u001b[1;32mbreak\u001b[0m\u001b[1;33m\u001b[0m\u001b[1;33m\u001b[0m\u001b[0m\n",
      "\u001b[1;31mKeyboardInterrupt\u001b[0m: "
     ]
    }
   ],
   "source": [
    "from PIL import Image, ImageOps\n",
    "from numpy import asarray\n",
    "import numpy as np\n",
    "\n",
    "directory = 'data/png'\n",
    "directory_r = 'data/png_r/png_r/'\n",
    "definition_px = IMAGE_SIZE\n",
    "count = 0\n",
    "for subdirectory in os.listdir(directory):\n",
    "    sub = directory+'/'+subdirectory\n",
    "    for filename in os.listdir(sub):\n",
    "        count+=1\n",
    "        \n",
    "print(\"Nombre d'images dans le dataset :\",count)\n",
    "    \n",
    "dataset = np.zeros([count,definition_px*definition_px])\n",
    "count = 0\n",
    "\n",
    "for subdirectory in os.listdir(directory):\n",
    "    sub = directory+'/'+subdirectory\n",
    "    for filename in os.listdir(sub):\n",
    "        f = os.path.join(sub,filename)\n",
    "        # load the image\n",
    "        im = np.array(Image.open(f).convert('L'))\n",
    "        \n",
    "        # Resize image and convert in greycolor\n",
    "        load_img_rz = np.array(Image.fromarray(im).resize((definition_px,definition_px)))\n",
    "        # Save the image in jpeg\n",
    "        Image.fromarray(load_img_rz).save(directory_r + 'r_' +subdirectory +'_'+filename)\n",
    "        \n",
    "print(\"Transformation des datas terminée\")\n"
   ]
  },
  {
   "cell_type": "markdown",
   "metadata": {},
   "source": [
    "Pour agrandir le dataset :"
   ]
  },
  {
   "cell_type": "code",
   "execution_count": null,
   "metadata": {},
   "outputs": [],
   "source": [
    "        # create Pillow image\n",
    "        true_img = Image.fromarray(load_img_rz)\n",
    "        #Flip image\n",
    "        im_flip = ImageOps.flip(true_img)\n",
    "        im_flip.save(directory_r + 'f_'+subdirectory +'_'+filename)\n",
    "        load_img_flip = np.array(im_flip)\n",
    "        #Mirror image\n",
    "        im_mirror = ImageOps.mirror(true_img)\n",
    "        im_mirror.save(directory_r + 'm_'+subdirectory +'_'+filename)\n",
    "        load_img_mirror = np.array(im_mirror)"
   ]
  },
  {
   "cell_type": "markdown",
   "metadata": {},
   "source": [
    "Pour créer un tableau numpy des datas"
   ]
  },
  {
   "cell_type": "code",
   "execution_count": null,
   "metadata": {},
   "outputs": [],
   "source": [
    "        rz = np.zeros([1,load_img_rz.size])\n",
    "        flip = np.zeros([1,load_img_flip.size])\n",
    "        mirror = np.zeros([1,load_img_mirror.size])\n",
    "        k = 0\n",
    "        for i in range(definition_px):\n",
    "            for j in range(definition_px):\n",
    "                rz[0,k] = load_img_rz[i,j]\n",
    "                flip[0,k] = load_img_flip[i,j]\n",
    "                mirror[0,k] = load_img_mirror[i,j]\n",
    "                k+=1\n",
    "                \n",
    "        dataset[count,:] = rz[0,:]\n",
    "        count +=1        \n",
    "        dataset[count,:] = flip[0,:]\n",
    "        count +=1   \n",
    "        dataset[count,:] = mirror[0,:]\n",
    "        count +=1   \n",
    "\n",
    "np.save('dataset_rework.npy', dataset)"
   ]
  },
  {
   "cell_type": "code",
   "execution_count": 22,
   "metadata": {},
   "outputs": [],
   "source": [
    "# run params\n",
    "SECTION = 'gan'\n",
    "RUN_ID = '0003'\n",
    "DATA_NAME = 'png_r'\n",
    "RUN_FOLDER = 'run/{}/'.format(SECTION)\n",
    "RUN_FOLDER += '_'.join([RUN_ID, DATA_NAME])\n",
    "\n",
    "if not os.path.exists(RUN_FOLDER):\n",
    "    os.mkdir(RUN_FOLDER)\n",
    "    os.mkdir(os.path.join(RUN_FOLDER, 'viz'))\n",
    "    os.mkdir(os.path.join(RUN_FOLDER, 'images'))\n",
    "    os.mkdir(os.path.join(RUN_FOLDER, 'weights'))\n",
    "\n",
    "mode =  'build' #'load' #"
   ]
  },
  {
   "cell_type": "markdown",
   "metadata": {},
   "source": [
    "## data"
   ]
  },
  {
   "cell_type": "code",
   "execution_count": 26,
   "metadata": {},
   "outputs": [
    {
     "name": "stdout",
     "output_type": "stream",
     "text": [
      "Found 20000 images belonging to 1 classes.\n"
     ]
    }
   ],
   "source": [
    "x_train = load_celeb(DATA_NAME, IMAGE_SIZE, BATCH_SIZE)"
   ]
  },
  {
   "cell_type": "code",
   "execution_count": 27,
   "metadata": {},
   "outputs": [
    {
     "data": {
      "text/plain": [
       "array([[[1., 1., 1.],\n",
       "        [1., 1., 1.],\n",
       "        [1., 1., 1.],\n",
       "        ...,\n",
       "        [1., 1., 1.],\n",
       "        [1., 1., 1.],\n",
       "        [1., 1., 1.]],\n",
       "\n",
       "       [[1., 1., 1.],\n",
       "        [1., 1., 1.],\n",
       "        [1., 1., 1.],\n",
       "        ...,\n",
       "        [1., 1., 1.],\n",
       "        [1., 1., 1.],\n",
       "        [1., 1., 1.]],\n",
       "\n",
       "       [[1., 1., 1.],\n",
       "        [1., 1., 1.],\n",
       "        [1., 1., 1.],\n",
       "        ...,\n",
       "        [1., 1., 1.],\n",
       "        [1., 1., 1.],\n",
       "        [1., 1., 1.]],\n",
       "\n",
       "       ...,\n",
       "\n",
       "       [[1., 1., 1.],\n",
       "        [1., 1., 1.],\n",
       "        [1., 1., 1.],\n",
       "        ...,\n",
       "        [1., 1., 1.],\n",
       "        [1., 1., 1.],\n",
       "        [1., 1., 1.]],\n",
       "\n",
       "       [[1., 1., 1.],\n",
       "        [1., 1., 1.],\n",
       "        [1., 1., 1.],\n",
       "        ...,\n",
       "        [1., 1., 1.],\n",
       "        [1., 1., 1.],\n",
       "        [1., 1., 1.]],\n",
       "\n",
       "       [[1., 1., 1.],\n",
       "        [1., 1., 1.],\n",
       "        [1., 1., 1.],\n",
       "        ...,\n",
       "        [1., 1., 1.],\n",
       "        [1., 1., 1.],\n",
       "        [1., 1., 1.]]], dtype=float32)"
      ]
     },
     "execution_count": 27,
     "metadata": {},
     "output_type": "execute_result"
    }
   ],
   "source": [
    "x_train[0][0][0]"
   ]
  },
  {
   "cell_type": "code",
   "execution_count": 28,
   "metadata": {},
   "outputs": [
    {
     "data": {
      "text/plain": [
       "<matplotlib.image.AxesImage at 0x16b9cb341d0>"
      ]
     },
     "execution_count": 28,
     "metadata": {},
     "output_type": "execute_result"
    },
    {
     "data": {
      "image/png": "[encoded data removed]",
      "text/plain": [
       "<Figure size 432x288 with 1 Axes>"
      ]
     },
     "metadata": {
      "needs_background": "light"
     },
     "output_type": "display_data"
    }
   ],
   "source": [
    "plt.imshow((x_train[0][0][0]+1)/2)"
   ]
  },
  {
   "cell_type": "markdown",
   "metadata": {},
   "source": [
    "## architecture"
   ]
  },
  {
   "cell_type": "code",
   "execution_count": 29,
   "metadata": {},
   "outputs": [
    {
     "name": "stdout",
     "output_type": "stream",
     "text": [
      "WARNING:tensorflow:From C:\\Users\\valen\\.conda\\envs\\generative\\lib\\site-packages\\tensorflow_core\\python\\keras\\initializers.py:143: calling RandomNormal.__init__ (from tensorflow.python.ops.init_ops) with dtype is deprecated and will be removed in a future version.\n",
      "Instructions for updating:\n",
      "Call initializer instance with the dtype argument instead of passing it to the constructor\n",
      "WARNING:tensorflow:From C:\\Users\\valen\\.conda\\envs\\generative\\lib\\site-packages\\tensorflow_core\\python\\ops\\resource_variable_ops.py:1630: calling BaseResourceVariable.__init__ (from tensorflow.python.ops.resource_variable_ops) with constraint is deprecated and will be removed in a future version.\n",
      "Instructions for updating:\n",
      "If using Keras pass *_constraint arguments to layers.\n"
     ]
    }
   ],
   "source": [
    "gan = WGANGP(input_dim = (IMAGE_SIZE,IMAGE_SIZE,3)\n",
    "        , critic_conv_filters = [128,256,512,1024]\n",
    "        , critic_conv_kernel_size = [5,5,5,5]\n",
    "        , critic_conv_strides = [2,2,2,2]\n",
    "        , critic_batch_norm_momentum = None\n",
    "        , critic_activation = 'leaky_relu'\n",
    "        , critic_dropout_rate = None\n",
    "        , critic_learning_rate = 0.0002\n",
    "        , generator_initial_dense_layer_size = (8, 8, 1024)\n",
    "        , generator_upsample = [1,1,1,1]\n",
    "        , generator_conv_filters = [512,256,128,3]\n",
    "        , generator_conv_kernel_size = [5,5,5,5]\n",
    "        , generator_conv_strides = [2,2,2,2]\n",
    "        , generator_batch_norm_momentum = 0.9\n",
    "        , generator_activation = 'leaky_relu'\n",
    "        , generator_dropout_rate = None\n",
    "        , generator_learning_rate = 0.0002\n",
    "        , optimiser = 'adam'\n",
    "        , grad_weight = 10\n",
    "        , z_dim = 100\n",
    "        , batch_size = BATCH_SIZE\n",
    "        )\n",
    "\n",
    "if mode == 'build':\n",
    "    gan.save(RUN_FOLDER)\n",
    "\n",
    "else:\n",
    "    gan.load_weights(os.path.join(RUN_FOLDER, 'weights/weights.h5'))\n"
   ]
  },
  {
   "cell_type": "code",
   "execution_count": 30,
   "metadata": {},
   "outputs": [
    {
     "name": "stdout",
     "output_type": "stream",
     "text": [
      "Model: \"model\"\n",
      "_________________________________________________________________\n",
      "Layer (type)                 Output Shape              Param #   \n",
      "=================================================================\n",
      "critic_input (InputLayer)    [(None, 128, 128, 3)]     0         \n",
      "_________________________________________________________________\n",
      "critic_conv_0 (Conv2D)       multiple                  9728      \n",
      "_________________________________________________________________\n",
      "leaky_re_lu (LeakyReLU)      multiple                  0         \n",
      "_________________________________________________________________\n",
      "critic_conv_1 (Conv2D)       multiple                  819456    \n",
      "_________________________________________________________________\n",
      "leaky_re_lu_1 (LeakyReLU)    multiple                  0         \n",
      "_________________________________________________________________\n",
      "critic_conv_2 (Conv2D)       multiple                  3277312   \n",
      "_________________________________________________________________\n",
      "leaky_re_lu_2 (LeakyReLU)    multiple                  0         \n",
      "_________________________________________________________________\n",
      "critic_conv_3 (Conv2D)       multiple                  13108224  \n",
      "_________________________________________________________________\n",
      "leaky_re_lu_3 (LeakyReLU)    multiple                  0         \n",
      "_________________________________________________________________\n",
      "flatten (Flatten)            multiple                  0         \n",
      "_________________________________________________________________\n",
      "dense (Dense)                multiple                  65537     \n",
      "=================================================================\n",
      "Total params: 17,280,257\n",
      "Trainable params: 17,280,257\n",
      "Non-trainable params: 0\n",
      "_________________________________________________________________\n"
     ]
    }
   ],
   "source": [
    "gan.critic.summary()"
   ]
  },
  {
   "cell_type": "code",
   "execution_count": 31,
   "metadata": {},
   "outputs": [
    {
     "name": "stdout",
     "output_type": "stream",
     "text": [
      "Model: \"model_1\"\n",
      "_________________________________________________________________\n",
      "Layer (type)                 Output Shape              Param #   \n",
      "=================================================================\n",
      "generator_input (InputLayer) [(None, 100)]             0         \n",
      "_________________________________________________________________\n",
      "dense_1 (Dense)              (None, 65536)             6619136   \n",
      "_________________________________________________________________\n",
      "batch_normalization (BatchNo (None, 65536)             262144    \n",
      "_________________________________________________________________\n",
      "leaky_re_lu_4 (LeakyReLU)    (None, 65536)             0         \n",
      "_________________________________________________________________\n",
      "reshape (Reshape)            (None, 8, 8, 1024)        0         \n",
      "_________________________________________________________________\n",
      "generator_conv_0 (Conv2DTran (None, 16, 16, 512)       13107712  \n",
      "_________________________________________________________________\n",
      "batch_normalization_1 (Batch (None, 16, 16, 512)       2048      \n",
      "_________________________________________________________________\n",
      "leaky_re_lu_5 (LeakyReLU)    (None, 16, 16, 512)       0         \n",
      "_________________________________________________________________\n",
      "generator_conv_1 (Conv2DTran (None, 32, 32, 256)       3277056   \n",
      "_________________________________________________________________\n",
      "batch_normalization_2 (Batch (None, 32, 32, 256)       1024      \n",
      "_________________________________________________________________\n",
      "leaky_re_lu_6 (LeakyReLU)    (None, 32, 32, 256)       0         \n",
      "_________________________________________________________________\n",
      "generator_conv_2 (Conv2DTran (None, 64, 64, 128)       819328    \n",
      "_________________________________________________________________\n",
      "batch_normalization_3 (Batch (None, 64, 64, 128)       512       \n",
      "_________________________________________________________________\n",
      "leaky_re_lu_7 (LeakyReLU)    (None, 64, 64, 128)       0         \n",
      "_________________________________________________________________\n",
      "generator_conv_3 (Conv2DTran (None, 128, 128, 3)       9603      \n",
      "_________________________________________________________________\n",
      "activation (Activation)      (None, 128, 128, 3)       0         \n",
      "=================================================================\n",
      "Total params: 24,098,563\n",
      "Trainable params: 23,965,699\n",
      "Non-trainable params: 132,864\n",
      "_________________________________________________________________\n"
     ]
    }
   ],
   "source": [
    "gan.generator.summary()"
   ]
  },
  {
   "cell_type": "markdown",
   "metadata": {},
   "source": [
    "## training"
   ]
  },
  {
   "cell_type": "code",
   "execution_count": 32,
   "metadata": {},
   "outputs": [],
   "source": [
    "EPOCHS = 6000\n",
    "PRINT_EVERY_N_BATCHES = 100\n",
    "N_CRITIC = 5\n",
    "BATCH_SIZE = 128"
   ]
  },
  {
   "cell_type": "code",
   "execution_count": null,
   "metadata": {
    "scrolled": false
   },
   "outputs": [
    {
     "name": "stdout",
     "output_type": "stream",
     "text": [
      "WARNING:tensorflow:Discrepancy between trainable weights and collected trainable weights, did you set `model.trainable` without calling `model.compile` after ?\n",
      "WARNING:tensorflow:From C:\\Users\\valen\\.conda\\envs\\generative\\lib\\site-packages\\tensorflow_core\\python\\ops\\math_grad.py:1424: where (from tensorflow.python.ops.array_ops) is deprecated and will be removed in a future version.\n",
      "Instructions for updating:\n",
      "Use tf.where in 2.0, which has the same broadcast rule as np.where\n",
      "WARNING:tensorflow:Discrepancy between trainable weights and collected trainable weights, did you set `model.trainable` without calling `model.compile` after ?\n",
      "0 (5, 1) [D loss: (-549.1)(R -584.8, F -21.3, G 5.7)] [G loss: 56.8]\n",
      "1 (5, 1) [D loss: (-1147.8)(R -2207.6, F -63.3, G 112.3)] [G loss: 89.3]\n",
      "2 (5, 1) [D loss: (-165.8)(R -177.3, F -351.7, G 36.3)] [G loss: -453.6]\n",
      "3 (5, 1) [D loss: (-980.3)(R -1725.3, F 115.2, G 63.0)] [G loss: -164.9]\n",
      "4 (5, 1) [D loss: (-901.8)(R -1895.8, F 253.3, G 74.1)] [G loss: -251.3]\n",
      "5 (5, 1) [D loss: (-820.5)(R -1816.7, F 318.6, G 67.8)] [G loss: -314.2]\n",
      "6 (5, 1) [D loss: (-740.2)(R -1712.6, F 375.8, G 59.7)] [G loss: -365.9]\n",
      "7 (5, 1) [D loss: (-658.5)(R -1621.6, F 430.3, G 53.3)] [G loss: -418.2]\n",
      "8 (5, 1) [D loss: (-597.3)(R -1517.5, F 458.8, G 46.1)] [G loss: -452.0]\n",
      "9 (5, 1) [D loss: (-541.1)(R -1442.3, F 484.2, G 41.7)] [G loss: -465.5]\n",
      "10 (5, 1) [D loss: (-494.4)(R -1361.4, F 493.3, G 37.4)] [G loss: -483.6]\n",
      "11 (5, 1) [D loss: (-459.8)(R -1304.9, F 501.9, G 34.3)] [G loss: -498.0]\n",
      "12 (5, 1) [D loss: (-428.9)(R -1243.8, F 502.2, G 31.3)] [G loss: -502.8]\n",
      "13 (5, 1) [D loss: (-402.2)(R -1181.0, F 492.8, G 28.6)] [G loss: -512.6]\n",
      "14 (5, 1) [D loss: (-378.8)(R -1139.1, F 492.7, G 26.8)] [G loss: -517.2]\n",
      "15 (5, 1) [D loss: (-360.1)(R -1208.9, F 565.3, G 28.3)] [G loss: -447.5]\n",
      "16 (5, 1) [D loss: (-346.4)(R -1041.3, F 468.7, G 22.6)] [G loss: -581.7]\n",
      "17 (5, 1) [D loss: (-323.8)(R -1185.5, F 596.6, G 26.5)] [G loss: -622.4]\n",
      "18 (5, 1) [D loss: (-313.3)(R -1022.9, F 498.4, G 21.1)] [G loss: -473.2]\n",
      "19 (5, 1) [D loss: (-302.6)(R -993.1, F 490.5, G 20.0)] [G loss: -515.4]\n",
      "20 (5, 1) [D loss: (-291.1)(R -994.4, F 505.5, G 19.8)] [G loss: -509.1]\n",
      "21 (5, 1) [D loss: (-275.9)(R -1007.6, F 529.0, G 20.3)] [G loss: -489.7]\n",
      "22 (5, 1) [D loss: (-267.7)(R -985.1, F 524.0, G 19.3)] [G loss: -488.8]\n",
      "23 (5, 1) [D loss: (-263.3)(R -955.5, F 512.4, G 18.0)] [G loss: -467.4]\n",
      "24 (5, 1) [D loss: (-252.2)(R -827.2, F 424.2, G 15.1)] [G loss: -634.0]\n",
      "25 (5, 1) [D loss: (-242.5)(R -844.4, F 458.2, G 14.4)] [G loss: -707.6]\n",
      "26 (5, 1) [D loss: (-234.2)(R -910.9, F 518.0, G 15.9)] [G loss: -429.4]\n",
      "27 (5, 1) [D loss: (-235.5)(R -829.2, F 446.7, G 14.7)] [G loss: -442.2]\n",
      "28 (5, 1) [D loss: (-229.2)(R -854.3, F 468.7, G 15.6)] [G loss: -448.2]\n",
      "29 (5, 1) [D loss: (-223.2)(R -839.7, F 460.7, G 15.6)] [G loss: -436.3]\n",
      "30 (5, 1) [D loss: (-221.8)(R -865.4, F 483.6, G 16.0)] [G loss: -407.0]\n",
      "31 (5, 1) [D loss: (-221.3)(R -828.5, F 455.1, G 15.2)] [G loss: -411.9]\n",
      "32 (5, 1) [D loss: (-217.5)(R -773.6, F 410.3, G 14.6)] [G loss: -462.6]\n",
      "33 (5, 1) [D loss: (-213.0)(R -841.9, F 475.4, G 15.3)] [G loss: -381.9]\n",
      "34 (5, 1) [D loss: (-216.4)(R -788.2, F 431.3, G 14.1)] [G loss: -399.2]\n",
      "35 (5, 1) [D loss: (-206.5)(R -704.8, F 364.9, G 13.3)] [G loss: -477.4]\n",
      "36 (5, 1) [D loss: (-212.2)(R -847.5, F 484.6, G 15.1)] [G loss: -305.5]\n",
      "37 (5, 1) [D loss: (-190.3)(R -465.3, F 169.9, G 10.5)] [G loss: -551.2]\n",
      "38 (5, 1) [D loss: (-208.4)(R -651.5, F 326.6, G 11.6)] [G loss: -411.9]\n",
      "39 (5, 1) [D loss: (-202.6)(R -745.1, F 404.4, G 13.8)] [G loss: -349.1]\n",
      "40 (5, 1) [D loss: (-201.3)(R -634.9, F 314.2, G 11.9)] [G loss: -411.5]\n",
      "41 (5, 1) [D loss: (-205.5)(R -705.0, F 372.0, G 12.8)] [G loss: -347.9]\n",
      "42 (5, 1) [D loss: (-195.7)(R -701.0, F 370.5, G 13.5)] [G loss: -343.8]\n",
      "43 (5, 1) [D loss: (-196.9)(R -628.4, F 307.8, G 12.4)] [G loss: -422.4]\n",
      "44 (5, 1) [D loss: (-182.5)(R -819.4, F 488.9, G 14.8)] [G loss: -243.8]\n",
      "45 (5, 1) [D loss: (-189.1)(R -679.0, F 372.4, G 11.7)] [G loss: -355.3]\n",
      "46 (5, 1) [D loss: (-186.9)(R -657.6, F 351.0, G 12.0)] [G loss: -366.8]\n",
      "47 (5, 1) [D loss: (-185.5)(R -701.4, F 390.7, G 12.5)] [G loss: -306.2]\n",
      "48 (5, 1) [D loss: (-185.2)(R -532.8, F 240.3, G 10.7)] [G loss: -451.1]\n",
      "49 (5, 1) [D loss: (-179.2)(R -716.1, F 415.4, G 12.1)] [G loss: -312.4]\n",
      "50 (5, 1) [D loss: (-176.0)(R -618.1, F 335.1, G 10.7)] [G loss: -362.5]\n",
      "51 (5, 1) [D loss: (-174.9)(R -632.3, F 343.8, G 11.4)] [G loss: -314.0]\n",
      "52 (5, 1) [D loss: (-175.0)(R -590.0, F 303.2, G 11.2)] [G loss: -338.4]\n",
      "53 (5, 1) [D loss: (-173.5)(R -590.7, F 310.1, G 10.7)] [G loss: -328.8]\n",
      "54 (5, 1) [D loss: (-169.0)(R -567.8, F 284.4, G 11.4)] [G loss: -342.7]\n",
      "55 (5, 1) [D loss: (-174.1)(R -617.1, F 334.2, G 10.9)] [G loss: -290.0]\n",
      "56 (5, 1) [D loss: (-157.1)(R -585.4, F 326.1, G 10.2)] [G loss: -338.1]\n",
      "57 (5, 1) [D loss: (-159.1)(R -570.0, F 316.9, G 9.4)] [G loss: -357.4]\n",
      "58 (5, 1) [D loss: (-144.5)(R -670.0, F 423.8, G 10.2)] [G loss: -445.9]\n",
      "59 (5, 1) [D loss: (-142.9)(R -523.4, F 299.1, G 8.1)] [G loss: -298.7]\n",
      "60 (5, 1) [D loss: (-141.0)(R -541.4, F 313.7, G 8.7)] [G loss: -324.4]\n",
      "61 (5, 1) [D loss: (-140.2)(R -518.9, F 291.8, G 8.7)] [G loss: -318.7]\n",
      "62 (5, 1) [D loss: (-146.7)(R -545.1, F 309.2, G 8.9)] [G loss: -283.2]\n",
      "63 (5, 1) [D loss: (-144.9)(R -536.1, F 307.1, G 8.4)] [G loss: -313.8]\n",
      "64 (5, 1) [D loss: (-147.2)(R -526.1, F 289.6, G 8.9)] [G loss: -279.2]\n",
      "65 (5, 1) [D loss: (-149.7)(R -551.4, F 313.1, G 8.9)] [G loss: -265.2]\n",
      "66 (5, 1) [D loss: (-144.8)(R -525.4, F 285.5, G 9.5)] [G loss: -272.6]\n",
      "67 (5, 1) [D loss: (-140.9)(R -472.0, F 248.7, G 8.2)] [G loss: -324.2]\n",
      "68 (5, 1) [D loss: (-135.8)(R -462.5, F 242.2, G 8.5)] [G loss: -293.0]\n",
      "69 (5, 1) [D loss: (-138.8)(R -481.8, F 257.2, G 8.6)] [G loss: -270.3]\n",
      "70 (5, 1) [D loss: (-141.6)(R -457.5, F 235.8, G 8.0)] [G loss: -281.0]\n",
      "71 (5, 1) [D loss: (-138.7)(R -422.1, F 199.1, G 8.4)] [G loss: -307.2]\n",
      "72 (5, 1) [D loss: (-138.1)(R -472.0, F 252.3, G 8.2)] [G loss: -248.0]\n",
      "73 (5, 1) [D loss: (-147.4)(R -435.8, F 210.5, G 7.8)] [G loss: -230.3]\n",
      "74 (5, 1) [D loss: (-141.2)(R -477.6, F 257.1, G 7.9)] [G loss: -216.5]\n",
      "75 (5, 1) [D loss: (-139.9)(R -479.2, F 254.8, G 8.4)] [G loss: -230.8]\n",
      "76 (5, 1) [D loss: (-132.5)(R -453.5, F 234.9, G 8.6)] [G loss: -226.0]\n",
      "77 (5, 1) [D loss: (-135.8)(R -471.6, F 255.7, G 8.0)] [G loss: -244.4]\n",
      "78 (5, 1) [D loss: (-129.0)(R -424.3, F 221.4, G 7.4)] [G loss: -271.7]\n",
      "79 (5, 1) [D loss: (-132.0)(R -484.7, F 267.0, G 8.6)] [G loss: -215.5]\n",
      "80 (5, 1) [D loss: (-128.9)(R -460.1, F 252.1, G 7.9)] [G loss: -236.2]\n",
      "81 (5, 1) [D loss: (-134.0)(R -468.4, F 253.4, G 8.1)] [G loss: -208.4]\n",
      "82 (5, 1) [D loss: (-132.5)(R -477.9, F 264.4, G 8.1)] [G loss: -212.0]\n",
      "83 (5, 1) [D loss: (-128.0)(R -447.5, F 239.4, G 8.0)] [G loss: -216.6]\n",
      "84 (5, 1) [D loss: (-136.5)(R -424.0, F 215.4, G 7.2)] [G loss: -230.8]\n",
      "85 (5, 1) [D loss: (-123.9)(R -432.0, F 226.5, G 8.2)] [G loss: -202.5]\n",
      "86 (5, 1) [D loss: (-128.7)(R -378.6, F 178.4, G 7.1)] [G loss: -221.2]\n",
      "87 (5, 1) [D loss: (-123.5)(R -419.2, F 221.8, G 7.4)] [G loss: -218.8]\n",
      "88 (5, 1) [D loss: (-122.4)(R -442.0, F 242.4, G 7.7)] [G loss: -199.8]\n",
      "89 (5, 1) [D loss: (-126.5)(R -427.2, F 225.7, G 7.5)] [G loss: -213.7]\n",
      "90 (5, 1) [D loss: (-123.2)(R -411.3, F 215.6, G 7.3)] [G loss: -204.3]\n",
      "91 (5, 1) [D loss: (-124.0)(R -410.5, F 208.2, G 7.8)] [G loss: -183.8]\n",
      "92 (5, 1) [D loss: (-122.2)(R -409.8, F 207.1, G 8.0)] [G loss: -194.3]\n",
      "93 (5, 1) [D loss: (-122.1)(R -395.8, F 200.2, G 7.3)] [G loss: -184.6]\n",
      "94 (5, 1) [D loss: (-118.1)(R -408.9, F 217.0, G 7.4)] [G loss: -183.4]\n",
      "95 (5, 1) [D loss: (-112.9)(R -393.9, F 218.6, G 6.2)] [G loss: -225.2]\n",
      "96 (5, 1) [D loss: (-116.3)(R -371.7, F 190.4, G 6.5)] [G loss: -214.6]\n",
      "97 (5, 1) [D loss: (-121.6)(R -438.1, F 243.6, G 7.3)] [G loss: -154.8]\n",
      "98 (5, 1) [D loss: (-129.0)(R -400.3, F 204.3, G 6.7)] [G loss: -186.0]\n",
      "99 (5, 1) [D loss: (-120.1)(R -396.7, F 205.1, G 7.1)] [G loss: -150.4]\n",
      "100 (5, 1) [D loss: (-115.2)(R -351.4, F 177.8, G 5.8)] [G loss: -221.7]\n",
      "101 (5, 1) [D loss: (-115.7)(R -381.1, F 195.2, G 7.0)] [G loss: -162.4]\n",
      "102 (5, 1) [D loss: (-114.6)(R -349.4, F 168.4, G 6.6)] [G loss: -185.7]\n",
      "103 (5, 1) [D loss: (-108.7)(R -361.1, F 189.5, G 6.3)] [G loss: -177.5]\n"
     ]
    },
    {
     "name": "stdout",
     "output_type": "stream",
     "text": [
      "104 (5, 1) [D loss: (-119.9)(R -367.6, F 181.7, G 6.6)] [G loss: -155.7]\n",
      "105 (5, 1) [D loss: (-123.4)(R -360.6, F 164.5, G 7.3)] [G loss: -156.3]\n",
      "106 (5, 1) [D loss: (-119.2)(R -336.3, F 153.4, G 6.4)] [G loss: -166.7]\n",
      "107 (5, 1) [D loss: (-113.0)(R -384.9, F 208.9, G 6.3)] [G loss: -136.0]\n",
      "108 (5, 1) [D loss: (-108.2)(R -343.1, F 168.4, G 6.6)] [G loss: -157.9]\n",
      "109 (5, 1) [D loss: (-110.4)(R -358.0, F 184.3, G 6.3)] [G loss: -161.9]\n",
      "110 (5, 1) [D loss: (-120.9)(R -350.1, F 165.3, G 6.4)] [G loss: -132.7]\n",
      "111 (5, 1) [D loss: (-113.5)(R -304.9, F 127.9, G 6.3)] [G loss: -168.3]\n",
      "112 (5, 1) [D loss: (-111.2)(R -272.9, F 97.1, G 6.5)] [G loss: -139.7]\n",
      "113 (5, 1) [D loss: (-114.1)(R -320.1, F 137.7, G 6.8)] [G loss: -146.2]\n",
      "114 (5, 1) [D loss: (-114.2)(R -284.0, F 103.5, G 6.6)] [G loss: -151.0]\n",
      "115 (5, 1) [D loss: (-119.2)(R -285.5, F 104.0, G 6.2)] [G loss: -157.0]\n",
      "116 (5, 1) [D loss: (-111.6)(R -281.4, F 97.3, G 7.3)] [G loss: -155.7]\n",
      "117 (5, 1) [D loss: (-105.0)(R -345.9, F 163.8, G 7.7)] [G loss: -266.0]\n",
      "118 (5, 1) [D loss: (-112.9)(R -357.4, F 192.2, G 5.2)] [G loss: -160.0]\n",
      "119 (5, 1) [D loss: (-113.0)(R -365.5, F 189.4, G 6.3)] [G loss: -182.5]\n",
      "120 (5, 1) [D loss: (-117.1)(R -344.5, F 169.6, G 5.8)] [G loss: -162.5]\n",
      "121 (5, 1) [D loss: (-115.0)(R -353.4, F 170.7, G 6.8)] [G loss: -137.1]\n",
      "122 (5, 1) [D loss: (-116.2)(R -325.9, F 149.6, G 6.0)] [G loss: -157.5]\n",
      "123 (5, 1) [D loss: (-115.7)(R -349.8, F 166.1, G 6.8)] [G loss: -130.1]\n",
      "124 (5, 1) [D loss: (-123.5)(R -350.6, F 161.7, G 6.5)] [G loss: -179.0]\n",
      "125 (5, 1) [D loss: (-108.4)(R -299.3, F 134.2, G 5.7)] [G loss: -174.9]\n",
      "126 (5, 1) [D loss: (-112.5)(R -284.4, F 107.0, G 6.5)] [G loss: -173.6]\n",
      "127 (5, 1) [D loss: (-110.7)(R -321.2, F 146.0, G 6.5)] [G loss: -132.4]\n",
      "128 (5, 1) [D loss: (-100.6)(R -393.1, F 210.1, G 8.2)] [G loss: -80.9]\n",
      "129 (5, 1) [D loss: (-108.2)(R -249.0, F 76.8, G 6.4)] [G loss: -85.8]\n",
      "130 (5, 1) [D loss: (-105.6)(R -312.0, F 147.4, G 5.9)] [G loss: -146.4]\n",
      "131 (5, 1) [D loss: (-107.6)(R -329.2, F 154.6, G 6.7)] [G loss: -153.8]\n",
      "132 (5, 1) [D loss: (-114.7)(R -323.2, F 150.7, G 5.8)] [G loss: -161.4]\n",
      "133 (5, 1) [D loss: (-105.8)(R -307.2, F 137.0, G 6.4)] [G loss: -157.3]\n",
      "134 (5, 1) [D loss: (-100.4)(R -282.4, F 123.5, G 5.8)] [G loss: -135.5]\n",
      "135 (5, 1) [D loss: (-105.6)(R -295.0, F 134.9, G 5.5)] [G loss: -107.9]\n",
      "136 (5, 1) [D loss: (-110.8)(R -314.2, F 156.0, G 4.7)] [G loss: -169.3]\n",
      "137 (5, 1) [D loss: (-103.0)(R -310.9, F 154.1, G 5.4)] [G loss: -177.7]\n",
      "138 (5, 1) [D loss: (-98.6)(R -340.5, F 189.2, G 5.3)] [G loss: -181.0]\n",
      "139 (5, 1) [D loss: (-96.6)(R -330.8, F 187.2, G 4.7)] [G loss: -187.1]\n",
      "140 (5, 1) [D loss: (-94.5)(R -331.6, F 191.2, G 4.6)] [G loss: -193.4]\n",
      "141 (5, 1) [D loss: (-88.7)(R -362.4, F 229.5, G 4.4)] [G loss: -217.7]\n",
      "142 (5, 1) [D loss: (-86.2)(R -376.9, F 244.3, G 4.6)] [G loss: -224.8]\n",
      "143 (5, 1) [D loss: (-83.8)(R -353.1, F 226.6, G 4.3)] [G loss: -232.5]\n",
      "144 (5, 1) [D loss: (-84.2)(R -341.1, F 215.8, G 4.1)] [G loss: -219.3]\n",
      "145 (5, 1) [D loss: (-85.6)(R -363.9, F 237.7, G 4.1)] [G loss: -253.2]\n",
      "146 (5, 1) [D loss: (-83.6)(R -363.7, F 236.7, G 4.3)] [G loss: -247.5]\n",
      "147 (5, 1) [D loss: (-83.0)(R -325.2, F 203.4, G 3.9)] [G loss: -192.6]\n",
      "148 (5, 1) [D loss: (-84.5)(R -354.4, F 229.5, G 4.0)] [G loss: -205.6]\n",
      "149 (5, 1) [D loss: (-89.0)(R -380.5, F 250.4, G 4.1)] [G loss: -233.1]\n",
      "150 (5, 1) [D loss: (-90.9)(R -391.1, F 254.5, G 4.6)] [G loss: -201.2]\n",
      "151 (5, 1) [D loss: (-87.2)(R -363.1, F 230.1, G 4.6)] [G loss: -261.0]\n",
      "152 (5, 1) [D loss: (-87.5)(R -314.6, F 176.5, G 5.1)] [G loss: -178.3]\n",
      "153 (5, 1) [D loss: (-81.9)(R -318.5, F 185.5, G 5.1)] [G loss: -198.7]\n",
      "154 (5, 1) [D loss: (-91.1)(R -291.6, F 166.5, G 3.4)] [G loss: -184.5]\n",
      "155 (5, 1) [D loss: (-93.1)(R -347.5, F 208.0, G 4.6)] [G loss: -189.5]\n",
      "156 (5, 1) [D loss: (-95.0)(R -341.1, F 194.8, G 5.1)] [G loss: -203.7]\n",
      "157 (5, 1) [D loss: (-89.6)(R -304.9, F 167.3, G 4.8)] [G loss: -240.0]\n",
      "158 (5, 1) [D loss: (-88.4)(R -270.0, F 140.0, G 4.2)] [G loss: -153.4]\n",
      "159 (5, 1) [D loss: (-92.7)(R -337.5, F 193.1, G 5.2)] [G loss: -196.4]\n",
      "160 (5, 1) [D loss: (-97.9)(R -372.0, F 224.1, G 5.0)] [G loss: -192.5]\n",
      "161 (5, 1) [D loss: (-96.5)(R -356.4, F 208.4, G 5.1)] [G loss: -216.2]\n",
      "162 (5, 1) [D loss: (-87.3)(R -281.6, F 152.0, G 4.2)] [G loss: -194.0]\n",
      "163 (5, 1) [D loss: (-90.1)(R -327.5, F 188.3, G 4.9)] [G loss: -195.6]\n",
      "164 (5, 1) [D loss: (-93.4)(R -354.1, F 209.2, G 5.1)] [G loss: -193.8]\n",
      "165 (5, 1) [D loss: (-93.8)(R -314.3, F 172.3, G 4.8)] [G loss: -216.5]\n",
      "166 (5, 1) [D loss: (-96.6)(R -296.6, F 152.9, G 4.7)] [G loss: -175.5]\n",
      "167 (5, 1) [D loss: (-90.0)(R -320.8, F 177.0, G 5.4)] [G loss: -175.4]\n",
      "168 (5, 1) [D loss: (-92.5)(R -347.8, F 198.6, G 5.7)] [G loss: -188.2]\n",
      "169 (5, 1) [D loss: (-94.1)(R -378.0, F 234.3, G 5.0)] [G loss: -215.7]\n",
      "170 (5, 1) [D loss: (-101.2)(R -379.0, F 223.2, G 5.5)] [G loss: -232.3]\n",
      "171 (5, 1) [D loss: (-98.1)(R -372.2, F 222.7, G 5.1)] [G loss: -177.6]\n",
      "172 (5, 1) [D loss: (-93.4)(R -287.6, F 144.6, G 5.0)] [G loss: -169.0]\n",
      "173 (5, 1) [D loss: (-94.1)(R -295.8, F 148.0, G 5.4)] [G loss: -155.0]\n",
      "174 (5, 1) [D loss: (-93.2)(R -343.7, F 203.2, G 4.7)] [G loss: -214.6]\n",
      "175 (5, 1) [D loss: (-99.2)(R -364.0, F 218.7, G 4.6)] [G loss: -191.2]\n",
      "176 (5, 1) [D loss: (-96.1)(R -356.8, F 205.5, G 5.5)] [G loss: -161.1]\n",
      "177 (5, 1) [D loss: (-97.5)(R -357.1, F 204.5, G 5.5)] [G loss: -164.9]\n",
      "178 (5, 1) [D loss: (-99.6)(R -338.9, F 175.4, G 6.4)] [G loss: -152.3]\n",
      "179 (5, 1) [D loss: (-93.9)(R -288.0, F 142.4, G 5.2)] [G loss: -185.1]\n",
      "180 (5, 1) [D loss: (-96.7)(R -339.0, F 189.3, G 5.3)] [G loss: -167.3]\n",
      "181 (5, 1) [D loss: (-96.5)(R -307.3, F 159.5, G 5.1)] [G loss: -196.9]\n",
      "182 (5, 1) [D loss: (-99.9)(R -331.6, F 181.3, G 5.0)] [G loss: -148.3]\n",
      "183 (5, 1) [D loss: (-97.3)(R -290.1, F 153.4, G 3.9)] [G loss: -185.2]\n",
      "184 (5, 1) [D loss: (-98.3)(R -328.9, F 182.7, G 4.8)] [G loss: -184.0]\n",
      "185 (5, 1) [D loss: (-94.0)(R -335.7, F 186.8, G 5.5)] [G loss: -169.0]\n",
      "186 (5, 1) [D loss: (-93.4)(R -304.1, F 167.4, G 4.3)] [G loss: -191.9]\n",
      "187 (5, 1) [D loss: (-88.7)(R -328.7, F 186.7, G 5.3)] [G loss: -173.5]\n",
      "188 (5, 1) [D loss: (-88.3)(R -288.7, F 152.1, G 4.8)] [G loss: -175.9]\n",
      "189 (5, 1) [D loss: (-87.7)(R -296.6, F 159.0, G 5.0)] [G loss: -160.5]\n",
      "190 (5, 1) [D loss: (-92.6)(R -326.1, F 181.6, G 5.2)] [G loss: -164.9]\n",
      "191 (5, 1) [D loss: (-93.0)(R -315.5, F 182.6, G 4.0)] [G loss: -209.7]\n",
      "192 (5, 1) [D loss: (-93.6)(R -310.6, F 169.4, G 4.8)] [G loss: -176.9]\n",
      "193 (5, 1) [D loss: (-92.6)(R -317.7, F 178.3, G 4.7)] [G loss: -177.7]\n",
      "194 (5, 1) [D loss: (-94.9)(R -318.0, F 177.4, G 4.6)] [G loss: -177.1]\n",
      "195 (5, 1) [D loss: (-87.3)(R -316.5, F 181.0, G 4.8)] [G loss: -166.6]\n",
      "196 (5, 1) [D loss: (-90.9)(R -328.6, F 194.9, G 4.3)] [G loss: -212.3]\n",
      "197 (5, 1) [D loss: (-92.1)(R -345.6, F 205.6, G 4.8)] [G loss: -195.6]\n",
      "198 (5, 1) [D loss: (-90.0)(R -351.3, F 207.4, G 5.4)] [G loss: -165.6]\n",
      "199 (5, 1) [D loss: (-86.1)(R -328.2, F 200.3, G 4.2)] [G loss: -198.2]\n",
      "200 (5, 1) [D loss: (-87.6)(R -313.8, F 184.4, G 4.2)] [G loss: -215.9]\n",
      "201 (5, 1) [D loss: (-87.6)(R -299.3, F 169.0, G 4.3)] [G loss: -174.6]\n",
      "202 (5, 1) [D loss: (-78.0)(R -318.7, F 187.7, G 5.3)] [G loss: -155.6]\n",
      "203 (5, 1) [D loss: (-93.1)(R -317.2, F 168.3, G 5.6)] [G loss: -149.4]\n",
      "204 (5, 1) [D loss: (-85.9)(R -324.3, F 193.9, G 4.5)] [G loss: -190.2]\n",
      "205 (5, 1) [D loss: (-88.0)(R -329.4, F 201.9, G 4.0)] [G loss: -208.6]\n",
      "206 (5, 1) [D loss: (-92.1)(R -336.2, F 198.0, G 4.6)] [G loss: -188.3]\n",
      "207 (5, 1) [D loss: (-90.4)(R -303.5, F 173.5, G 4.0)] [G loss: -193.3]\n",
      "208 (5, 1) [D loss: (-85.5)(R -293.2, F 162.1, G 4.6)] [G loss: -165.3]\n",
      "209 (5, 1) [D loss: (-87.0)(R -295.2, F 165.3, G 4.3)] [G loss: -180.1]\n",
      "210 (5, 1) [D loss: (-84.8)(R -295.4, F 167.3, G 4.3)] [G loss: -163.1]\n",
      "211 (5, 1) [D loss: (-82.4)(R -296.9, F 178.7, G 3.6)] [G loss: -186.2]\n",
      "212 (5, 1) [D loss: (-85.8)(R -311.0, F 183.7, G 4.1)] [G loss: -187.1]\n",
      "213 (5, 1) [D loss: (-81.4)(R -312.4, F 185.4, G 4.6)] [G loss: -166.6]\n",
      "214 (5, 1) [D loss: (-86.3)(R -278.2, F 147.5, G 4.4)] [G loss: -162.4]\n",
      "215 (5, 1) [D loss: (-86.1)(R -278.7, F 149.2, G 4.3)] [G loss: -149.3]\n",
      "216 (5, 1) [D loss: (-81.9)(R -224.2, F 107.4, G 3.5)] [G loss: -152.9]\n",
      "217 (5, 1) [D loss: (-82.4)(R -268.1, F 147.5, G 3.8)] [G loss: -170.9]\n"
     ]
    },
    {
     "name": "stdout",
     "output_type": "stream",
     "text": [
      "218 (5, 1) [D loss: (-87.7)(R -295.7, F 165.8, G 4.2)] [G loss: -174.9]\n",
      "219 (5, 1) [D loss: (-81.2)(R -296.2, F 170.0, G 4.5)] [G loss: -152.0]\n",
      "220 (5, 1) [D loss: (-84.8)(R -287.5, F 162.7, G 4.0)] [G loss: -175.5]\n",
      "221 (5, 1) [D loss: (-84.5)(R -256.8, F 137.4, G 3.5)] [G loss: -175.1]\n",
      "222 (5, 1) [D loss: (-83.8)(R -294.8, F 171.9, G 3.9)] [G loss: -178.0]\n",
      "223 (5, 1) [D loss: (-82.2)(R -290.6, F 167.6, G 4.1)] [G loss: -180.5]\n",
      "224 (5, 1) [D loss: (-85.1)(R -265.8, F 140.7, G 4.0)] [G loss: -157.0]\n",
      "225 (5, 1) [D loss: (-85.7)(R -257.0, F 133.1, G 3.8)] [G loss: -172.3]\n",
      "226 (5, 1) [D loss: (-80.0)(R -230.5, F 116.1, G 3.4)] [G loss: -148.4]\n",
      "227 (5, 1) [D loss: (-85.9)(R -280.1, F 147.2, G 4.7)] [G loss: -133.9]\n",
      "228 (5, 1) [D loss: (-85.0)(R -273.9, F 143.3, G 4.6)] [G loss: -129.5]\n",
      "229 (5, 1) [D loss: (-86.4)(R -263.5, F 136.6, G 4.1)] [G loss: -161.4]\n",
      "230 (5, 1) [D loss: (-83.3)(R -246.6, F 128.6, G 3.5)] [G loss: -139.5]\n",
      "231 (5, 1) [D loss: (-87.6)(R -282.2, F 149.8, G 4.5)] [G loss: -136.3]\n",
      "232 (5, 1) [D loss: (-78.9)(R -252.8, F 134.4, G 4.0)] [G loss: -135.3]\n",
      "233 (5, 1) [D loss: (-82.0)(R -273.3, F 143.2, G 4.8)] [G loss: -126.5]\n",
      "234 (5, 1) [D loss: (-83.1)(R -254.7, F 132.7, G 3.9)] [G loss: -147.4]\n",
      "235 (5, 1) [D loss: (-82.1)(R -274.1, F 143.5, G 4.8)] [G loss: -122.6]\n",
      "236 (5, 1) [D loss: (-82.5)(R -259.4, F 136.4, G 4.0)] [G loss: -132.2]\n",
      "237 (5, 1) [D loss: (-82.3)(R -283.9, F 155.8, G 4.6)] [G loss: -146.9]\n",
      "238 (5, 1) [D loss: (-79.8)(R -274.6, F 148.9, G 4.6)] [G loss: -137.6]\n",
      "239 (5, 1) [D loss: (-84.0)(R -274.1, F 142.9, G 4.7)] [G loss: -133.5]\n",
      "240 (5, 1) [D loss: (-80.9)(R -224.0, F 113.2, G 3.0)] [G loss: -160.1]\n",
      "241 (5, 1) [D loss: (-82.8)(R -298.3, F 169.4, G 4.6)] [G loss: -142.2]\n",
      "242 (5, 1) [D loss: (-81.9)(R -278.7, F 149.8, G 4.7)] [G loss: -136.4]\n",
      "243 (5, 1) [D loss: (-84.1)(R -270.8, F 143.1, G 4.4)] [G loss: -137.9]\n",
      "244 (5, 1) [D loss: (-84.5)(R -230.4, F 112.9, G 3.3)] [G loss: -149.2]\n",
      "245 (5, 1) [D loss: (-84.6)(R -254.3, F 131.2, G 3.9)] [G loss: -146.7]\n",
      "246 (5, 1) [D loss: (-80.5)(R -232.0, F 117.6, G 3.4)] [G loss: -142.9]\n",
      "247 (5, 1) [D loss: (-78.7)(R -220.9, F 110.9, G 3.1)] [G loss: -132.7]\n",
      "248 (5, 1) [D loss: (-83.2)(R -265.0, F 136.2, G 4.6)] [G loss: -113.9]\n",
      "249 (5, 1) [D loss: (-81.7)(R -257.3, F 137.0, G 3.9)] [G loss: -138.3]\n",
      "250 (5, 1) [D loss: (-81.6)(R -246.7, F 125.6, G 3.9)] [G loss: -131.3]\n",
      "251 (5, 1) [D loss: (-81.0)(R -233.5, F 117.2, G 3.5)] [G loss: -135.4]\n",
      "252 (5, 1) [D loss: (-80.1)(R -234.2, F 117.4, G 3.7)] [G loss: -135.3]\n",
      "253 (5, 1) [D loss: (-77.9)(R -211.9, F 99.3, G 3.5)] [G loss: -113.4]\n",
      "254 (5, 1) [D loss: (-79.2)(R -220.6, F 106.6, G 3.5)] [G loss: -124.6]\n",
      "255 (5, 1) [D loss: (-79.8)(R -247.4, F 129.0, G 3.9)] [G loss: -126.3]\n",
      "256 (5, 1) [D loss: (-80.2)(R -250.0, F 124.8, G 4.5)] [G loss: -107.5]\n",
      "257 (5, 1) [D loss: (-73.5)(R -220.7, F 110.0, G 3.7)] [G loss: -107.7]\n",
      "258 (5, 1) [D loss: (-76.2)(R -237.5, F 117.8, G 4.4)] [G loss: -97.5]\n",
      "259 (5, 1) [D loss: (-79.3)(R -201.8, F 94.8, G 2.8)] [G loss: -130.3]\n",
      "260 (5, 1) [D loss: (-82.0)(R -261.4, F 138.9, G 4.0)] [G loss: -127.5]\n",
      "261 (5, 1) [D loss: (-75.2)(R -238.9, F 122.2, G 4.2)] [G loss: -110.1]\n",
      "262 (5, 1) [D loss: (-75.5)(R -253.5, F 129.8, G 4.8)] [G loss: -101.2]\n",
      "263 (5, 1) [D loss: (-79.5)(R -248.4, F 123.3, G 4.6)] [G loss: -104.4]\n",
      "264 (5, 1) [D loss: (-73.2)(R -235.5, F 119.9, G 4.2)] [G loss: -96.2]\n",
      "265 (5, 1) [D loss: (-82.8)(R -222.5, F 105.2, G 3.4)] [G loss: -125.5]\n",
      "266 (5, 1) [D loss: (-82.3)(R -233.3, F 114.1, G 3.7)] [G loss: -125.5]\n",
      "267 (5, 1) [D loss: (-85.6)(R -249.2, F 123.8, G 4.0)] [G loss: -127.0]\n",
      "268 (5, 1) [D loss: (-80.6)(R -233.8, F 115.2, G 3.8)] [G loss: -116.0]\n",
      "269 (5, 1) [D loss: (-76.2)(R -196.6, F 89.6, G 3.1)] [G loss: -131.4]\n",
      "270 (5, 1) [D loss: (-79.1)(R -228.0, F 106.5, G 4.2)] [G loss: -102.9]\n",
      "271 (5, 1) [D loss: (-76.4)(R -229.2, F 109.4, G 4.3)] [G loss: -98.1]\n",
      "272 (5, 1) [D loss: (-78.3)(R -211.1, F 93.0, G 4.0)] [G loss: -103.1]\n",
      "273 (5, 1) [D loss: (-85.2)(R -230.2, F 103.0, G 4.2)] [G loss: -110.4]\n",
      "274 (5, 1) [D loss: (-82.6)(R -217.2, F 98.9, G 3.6)] [G loss: -116.7]\n",
      "275 (5, 1) [D loss: (-79.9)(R -232.8, F 115.3, G 3.8)] [G loss: -112.9]\n",
      "276 (5, 1) [D loss: (-78.4)(R -234.1, F 108.8, G 4.7)] [G loss: -95.6]\n",
      "277 (5, 1) [D loss: (-77.9)(R -227.1, F 108.1, G 4.1)] [G loss: -95.0]\n",
      "278 (5, 1) [D loss: (-76.5)(R -222.6, F 105.1, G 4.1)] [G loss: -95.6]\n",
      "279 (5, 1) [D loss: (-78.8)(R -207.4, F 90.8, G 3.8)] [G loss: -94.5]\n",
      "280 (5, 1) [D loss: (-76.6)(R -223.5, F 103.5, G 4.3)] [G loss: -89.9]\n",
      "281 (5, 1) [D loss: (-81.8)(R -223.1, F 100.4, G 4.1)] [G loss: -89.2]\n",
      "282 (5, 1) [D loss: (-84.0)(R -212.6, F 89.2, G 3.9)] [G loss: -93.1]\n",
      "283 (5, 1) [D loss: (-77.4)(R -194.2, F 80.4, G 3.6)] [G loss: -89.2]\n",
      "284 (5, 1) [D loss: (-79.7)(R -185.1, F 74.1, G 3.1)] [G loss: -107.5]\n",
      "285 (5, 1) [D loss: (-77.2)(R -186.3, F 77.3, G 3.2)] [G loss: -96.3]\n",
      "286 (5, 1) [D loss: (-77.8)(R -209.2, F 90.7, G 4.1)] [G loss: -84.8]\n",
      "287 (5, 1) [D loss: (-84.0)(R -235.4, F 103.7, G 4.8)] [G loss: -87.4]\n",
      "288 (5, 1) [D loss: (-78.5)(R -192.6, F 81.5, G 3.3)] [G loss: -93.9]\n",
      "289 (5, 1) [D loss: (-76.5)(R -201.0, F 86.7, G 3.8)] [G loss: -89.8]\n",
      "290 (5, 1) [D loss: (-76.9)(R -217.7, F 97.7, G 4.3)] [G loss: -77.5]\n",
      "291 (5, 1) [D loss: (-77.3)(R -224.2, F 98.6, G 4.8)] [G loss: -78.9]\n",
      "292 (5, 1) [D loss: (-77.2)(R -198.1, F 85.4, G 3.5)] [G loss: -89.7]\n",
      "293 (5, 1) [D loss: (-77.5)(R -195.2, F 82.9, G 3.5)] [G loss: -90.6]\n",
      "294 (5, 1) [D loss: (-75.1)(R -192.5, F 84.0, G 3.3)] [G loss: -90.8]\n",
      "295 (5, 1) [D loss: (-74.7)(R -201.4, F 88.5, G 3.8)] [G loss: -89.4]\n",
      "296 (5, 1) [D loss: (-75.1)(R -212.0, F 94.1, G 4.3)] [G loss: -86.4]\n",
      "297 (5, 1) [D loss: (-74.5)(R -191.5, F 87.8, G 2.9)] [G loss: -104.2]\n",
      "298 (5, 1) [D loss: (-77.5)(R -208.8, F 93.9, G 3.7)] [G loss: -87.5]\n",
      "299 (5, 1) [D loss: (-74.3)(R -209.2, F 97.0, G 3.8)] [G loss: -84.4]\n",
      "300 (5, 1) [D loss: (-76.9)(R -207.0, F 91.5, G 3.9)] [G loss: -96.9]\n",
      "301 (5, 1) [D loss: (-75.5)(R -207.9, F 95.6, G 3.7)] [G loss: -101.8]\n",
      "302 (5, 1) [D loss: (-79.6)(R -208.6, F 93.4, G 3.6)] [G loss: -99.2]\n",
      "303 (5, 1) [D loss: (-72.5)(R -225.1, F 106.7, G 4.6)] [G loss: -81.4]\n",
      "304 (5, 1) [D loss: (-75.6)(R -197.0, F 81.6, G 4.0)] [G loss: -90.1]\n",
      "305 (5, 1) [D loss: (-76.5)(R -217.8, F 97.1, G 4.4)] [G loss: -82.8]\n",
      "306 (5, 1) [D loss: (-74.8)(R -197.7, F 87.6, G 3.5)] [G loss: -92.8]\n",
      "307 (5, 1) [D loss: (-75.1)(R -193.3, F 79.7, G 3.9)] [G loss: -80.4]\n",
      "308 (5, 1) [D loss: (-74.7)(R -201.8, F 89.0, G 3.8)] [G loss: -81.7]\n"
     ]
    }
   ],
   "source": [
    "gan.train(     \n",
    "    x_train\n",
    "    , batch_size = BATCH_SIZE\n",
    "    , epochs = EPOCHS\n",
    "    , run_folder = RUN_FOLDER\n",
    "    , print_every_n_batches = PRINT_EVERY_N_BATCHES\n",
    "    , n_critic = N_CRITIC\n",
    "    , using_generator = True\n",
    ")"
   ]
  },
  {
   "cell_type": "code",
   "execution_count": 86,
   "metadata": {},
   "outputs": [
    {
     "data": {
      "image/png": "[encoded data removed]",
      "text/plain": [
       "<Figure size 432x288 with 1 Axes>"
      ]
     },
     "metadata": {
      "needs_background": "light"
     },
     "output_type": "display_data"
    }
   ],
   "source": [
    "fig = plt.figure()\n",
    "plt.plot([x[0] for x in gan.d_losses], color='black', linewidth=0.25)\n",
    "\n",
    "plt.plot([x[1] for x in gan.d_losses], color='green', linewidth=0.25)\n",
    "plt.plot([x[2] for x in gan.d_losses], color='red', linewidth=0.25)\n",
    "plt.plot(gan.g_losses, color='orange', linewidth=0.25)\n",
    "\n",
    "plt.xlabel('batch', fontsize=18)\n",
    "plt.ylabel('loss', fontsize=16)\n",
    "\n",
    "plt.xlim(0, 13000)\n",
    "# plt.ylim(0, 2)\n",
    "\n",
    "plt.show()\n"
   ]
  },
  {
   "cell_type": "code",
   "execution_count": null,
   "metadata": {},
   "outputs": [],
   "source": []
  }
 ],
 "metadata": {
  "kernelspec": {
   "display_name": "generative",
   "language": "python",
   "name": "generative"
  },
  "language_info": {
   "codemirror_mode": {
    "name": "ipython",
    "version": 3
   },
   "file_extension": ".py",
   "mimetype": "text/x-python",
   "name": "python",
   "nbconvert_exporter": "python",
   "pygments_lexer": "ipython3",
   "version": "3.6.13"
  }
 },
 "nbformat": 4,
 "nbformat_minor": 2
}
